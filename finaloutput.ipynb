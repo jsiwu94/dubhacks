{
 "cells": [
  {
   "cell_type": "code",
   "execution_count": 30,
   "metadata": {},
   "outputs": [],
   "source": [
    "pip install --upgrade google-cloud-language"
   ]
  },
  {
   "cell_type": "code",
   "execution_count": 2,
   "metadata": {},
   "outputs": [],
   "source": [
    "# Imports the Google Cloud client library\n",
    "from google.cloud import language\n",
    "from google.cloud.language import enums\n",
    "from google.cloud.language import types\n",
    "\n",
    "\n",
    "import pandas as pd\n",
    "import numpy as np\n"
   ]
  },
  {
   "cell_type": "code",
   "execution_count": null,
   "metadata": {},
   "outputs": [],
   "source": [
    "#def abc():\n",
    " #   client = language.LanguageServiceClient.from_service_account_json('/Users/jenniferwu/Downloads/second.json')\n"
   ]
  },
  {
   "cell_type": "code",
   "execution_count": 3,
   "metadata": {},
   "outputs": [
    {
     "name": "stdout",
     "output_type": "stream",
     "text": [
      "Text: i am so pissed at this dog\n",
      "Sentiment: -0.6000000238418579\n"
     ]
    }
   ],
   "source": [
    "client = language.LanguageServiceClient.from_service_account_json('/Users/jenniferwu/Downloads/second.json')\n",
    "\n",
    "# The text to analyze\n",
    "text = u'''i am so pissed at this dog'''\n",
    "document = types.Document(\n",
    "    content=text,\n",
    "    type=enums.Document.Type.PLAIN_TEXT)\n",
    "\n",
    "# Detects the sentiment of the text\n",
    "sentiment = client.analyze_sentiment(document=document).document_sentiment\n",
    "\n",
    "print('Text: {}'.format(text))\n",
    "#print('Sentiment: {}, {}'.format(sentiment.score, sentiment.magnitude))\n",
    "print('Sentiment: {}'.format(sentiment.score))"
   ]
  },
  {
   "cell_type": "code",
   "execution_count": 4,
   "metadata": {},
   "outputs": [],
   "source": [
    "score = []"
   ]
  },
  {
   "cell_type": "code",
   "execution_count": 5,
   "metadata": {},
   "outputs": [],
   "source": [
    "def score_range(score):\n",
    "        if score <= -.8:\n",
    "            o = -.8\n",
    "        elif score > -.8 and score <= -.5:\n",
    "            o = -.5\n",
    "        elif score > -.5 and score <= -.3:\n",
    "            o = -.3\n",
    "        elif score > -.3 and score <= .3:\n",
    "            o = 0\n",
    "        elif score > .3 and score <= .5:\n",
    "            o = .3\n",
    "        elif score > .5 and score <= .8:\n",
    "            o = .5\n",
    "        else:\n",
    "            o = .8\n",
    "        return(o)"
   ]
  },
  {
   "cell_type": "code",
   "execution_count": 6,
   "metadata": {},
   "outputs": [
    {
     "data": {
      "text/plain": [
       "-0.5"
      ]
     },
     "execution_count": 6,
     "metadata": {},
     "output_type": "execute_result"
    }
   ],
   "source": [
    "score_range(-.545)"
   ]
  },
  {
   "cell_type": "code",
   "execution_count": 7,
   "metadata": {},
   "outputs": [],
   "source": [
    "tweet = pd.read_csv('/Users/jenniferwu/Desktop/elonmusk_tweets.csv')"
   ]
  },
  {
   "cell_type": "code",
   "execution_count": 54,
   "metadata": {},
   "outputs": [
    {
     "data": {
      "text/html": [
       "<div>\n",
       "<style scoped>\n",
       "    .dataframe tbody tr th:only-of-type {\n",
       "        vertical-align: middle;\n",
       "    }\n",
       "\n",
       "    .dataframe tbody tr th {\n",
       "        vertical-align: top;\n",
       "    }\n",
       "\n",
       "    .dataframe thead th {\n",
       "        text-align: right;\n",
       "    }\n",
       "</style>\n",
       "<table border=\"1\" class=\"dataframe\">\n",
       "  <thead>\n",
       "    <tr style=\"text-align: right;\">\n",
       "      <th></th>\n",
       "      <th>id</th>\n",
       "      <th>created_at</th>\n",
       "      <th>text</th>\n",
       "      <th>date</th>\n",
       "      <th>year</th>\n",
       "      <th>month</th>\n",
       "      <th>day</th>\n",
       "      <th>score</th>\n",
       "      <th>source</th>\n",
       "      <th>cid</th>\n",
       "    </tr>\n",
       "  </thead>\n",
       "  <tbody>\n",
       "    <tr>\n",
       "      <td>0</td>\n",
       "      <td>849636868052275200</td>\n",
       "      <td>2017-04-05 14:56:29</td>\n",
       "      <td>b'And so the robots spared humanity ... https:...</td>\n",
       "      <td>2017-04-05</td>\n",
       "      <td>2017</td>\n",
       "      <td>04</td>\n",
       "      <td>05</td>\n",
       "      <td>0.1</td>\n",
       "      <td>twitter</td>\n",
       "      <td>18839</td>\n",
       "    </tr>\n",
       "    <tr>\n",
       "      <td>1</td>\n",
       "      <td>848988730585096192</td>\n",
       "      <td>2017-04-03 20:01:01</td>\n",
       "      <td>b\"@ForIn2020 @waltmossberg @mims @defcon_5 Exa...</td>\n",
       "      <td>2017-04-03</td>\n",
       "      <td>2017</td>\n",
       "      <td>04</td>\n",
       "      <td>03</td>\n",
       "      <td>0.1</td>\n",
       "      <td>twitter</td>\n",
       "      <td>18839</td>\n",
       "    </tr>\n",
       "    <tr>\n",
       "      <td>2</td>\n",
       "      <td>848943072423497728</td>\n",
       "      <td>2017-04-03 16:59:35</td>\n",
       "      <td>b'@waltmossberg @mims @defcon_5 Et tu, Walt?'</td>\n",
       "      <td>2017-04-03</td>\n",
       "      <td>2017</td>\n",
       "      <td>04</td>\n",
       "      <td>03</td>\n",
       "      <td>0.0</td>\n",
       "      <td>twitter</td>\n",
       "      <td>18839</td>\n",
       "    </tr>\n",
       "    <tr>\n",
       "      <td>3</td>\n",
       "      <td>848935705057280001</td>\n",
       "      <td>2017-04-03 16:30:19</td>\n",
       "      <td>b'Stormy weather in Shortville ...'</td>\n",
       "      <td>2017-04-03</td>\n",
       "      <td>2017</td>\n",
       "      <td>04</td>\n",
       "      <td>03</td>\n",
       "      <td>0.1</td>\n",
       "      <td>twitter</td>\n",
       "      <td>18839</td>\n",
       "    </tr>\n",
       "    <tr>\n",
       "      <td>4</td>\n",
       "      <td>848416049573658624</td>\n",
       "      <td>2017-04-02 06:05:23</td>\n",
       "      <td>b\"@DaveLeeBBC @verge Coal is dying due to nat ...</td>\n",
       "      <td>2017-04-02</td>\n",
       "      <td>2017</td>\n",
       "      <td>04</td>\n",
       "      <td>02</td>\n",
       "      <td>-0.2</td>\n",
       "      <td>twitter</td>\n",
       "      <td>18839</td>\n",
       "    </tr>\n",
       "  </tbody>\n",
       "</table>\n",
       "</div>"
      ],
      "text/plain": [
       "                   id           created_at  \\\n",
       "0  849636868052275200  2017-04-05 14:56:29   \n",
       "1  848988730585096192  2017-04-03 20:01:01   \n",
       "2  848943072423497728  2017-04-03 16:59:35   \n",
       "3  848935705057280001  2017-04-03 16:30:19   \n",
       "4  848416049573658624  2017-04-02 06:05:23   \n",
       "\n",
       "                                                text       date  year month  \\\n",
       "0  b'And so the robots spared humanity ... https:... 2017-04-05  2017    04   \n",
       "1  b\"@ForIn2020 @waltmossberg @mims @defcon_5 Exa... 2017-04-03  2017    04   \n",
       "2      b'@waltmossberg @mims @defcon_5 Et tu, Walt?' 2017-04-03  2017    04   \n",
       "3                b'Stormy weather in Shortville ...' 2017-04-03  2017    04   \n",
       "4  b\"@DaveLeeBBC @verge Coal is dying due to nat ... 2017-04-02  2017    04   \n",
       "\n",
       "  day  score   source    cid  \n",
       "0  05    0.1  twitter  18839  \n",
       "1  03    0.1  twitter  18839  \n",
       "2  03    0.0  twitter  18839  \n",
       "3  03    0.1  twitter  18839  \n",
       "4  02   -0.2  twitter  18839  "
      ]
     },
     "execution_count": 54,
     "metadata": {},
     "output_type": "execute_result"
    }
   ],
   "source": [
    "tweet.head()"
   ]
  },
  {
   "cell_type": "code",
   "execution_count": 55,
   "metadata": {},
   "outputs": [],
   "source": [
    "tweet['date'] = tweet.created_at.str.partition(' ')[0]\n",
    "tweet['date'] = pd.to_datetime(tweet.date, format=\"%Y-%m-%d\")\n",
    "tweet[['year','month','day']] = tweet.date.apply(lambda x: pd.Series(x.strftime(\"%Y,%m,%d\").split(\",\")))"
   ]
  },
  {
   "cell_type": "code",
   "execution_count": 56,
   "metadata": {},
   "outputs": [
    {
     "data": {
      "text/plain": [
       "(377, 10)"
      ]
     },
     "execution_count": 56,
     "metadata": {},
     "output_type": "execute_result"
    }
   ],
   "source": [
    "tweet = tweet[tweet.year=='2017']\n",
    "\n",
    "tweet.shape"
   ]
  },
  {
   "cell_type": "code",
   "execution_count": 57,
   "metadata": {},
   "outputs": [],
   "source": [
    "score = []\n",
    "for i in tweet.text:\n",
    "        text = i\n",
    "        document = types.Document(\n",
    "        content=text,\n",
    "        type=enums.Document.Type.PLAIN_TEXT)\n",
    "\n",
    "# Detects the sentiment of the text\n",
    "        sentiment = client.analyze_sentiment(document=document).document_sentiment\n",
    "        score.append(sentiment.score)"
   ]
  },
  {
   "cell_type": "code",
   "execution_count": 58,
   "metadata": {},
   "outputs": [],
   "source": [
    "tweet['score']=(score)"
   ]
  },
  {
   "cell_type": "code",
   "execution_count": 59,
   "metadata": {},
   "outputs": [],
   "source": [
    "output = tweet.loc[:,[\"id\",\"date\",\"score\"]]"
   ]
  },
  {
   "cell_type": "code",
   "execution_count": 60,
   "metadata": {},
   "outputs": [
    {
     "data": {
      "text/html": [
       "<div>\n",
       "<style scoped>\n",
       "    .dataframe tbody tr th:only-of-type {\n",
       "        vertical-align: middle;\n",
       "    }\n",
       "\n",
       "    .dataframe tbody tr th {\n",
       "        vertical-align: top;\n",
       "    }\n",
       "\n",
       "    .dataframe thead th {\n",
       "        text-align: right;\n",
       "    }\n",
       "</style>\n",
       "<table border=\"1\" class=\"dataframe\">\n",
       "  <thead>\n",
       "    <tr style=\"text-align: right;\">\n",
       "      <th></th>\n",
       "      <th>id</th>\n",
       "      <th>date</th>\n",
       "      <th>score</th>\n",
       "    </tr>\n",
       "  </thead>\n",
       "  <tbody>\n",
       "    <tr>\n",
       "      <td>0</td>\n",
       "      <td>849636868052275200</td>\n",
       "      <td>2017-04-05</td>\n",
       "      <td>0.1</td>\n",
       "    </tr>\n",
       "    <tr>\n",
       "      <td>1</td>\n",
       "      <td>848988730585096192</td>\n",
       "      <td>2017-04-03</td>\n",
       "      <td>0.1</td>\n",
       "    </tr>\n",
       "    <tr>\n",
       "      <td>2</td>\n",
       "      <td>848943072423497728</td>\n",
       "      <td>2017-04-03</td>\n",
       "      <td>0.0</td>\n",
       "    </tr>\n",
       "    <tr>\n",
       "      <td>3</td>\n",
       "      <td>848935705057280001</td>\n",
       "      <td>2017-04-03</td>\n",
       "      <td>0.1</td>\n",
       "    </tr>\n",
       "    <tr>\n",
       "      <td>4</td>\n",
       "      <td>848416049573658624</td>\n",
       "      <td>2017-04-02</td>\n",
       "      <td>-0.2</td>\n",
       "    </tr>\n",
       "  </tbody>\n",
       "</table>\n",
       "</div>"
      ],
      "text/plain": [
       "                   id       date  score\n",
       "0  849636868052275200 2017-04-05    0.1\n",
       "1  848988730585096192 2017-04-03    0.1\n",
       "2  848943072423497728 2017-04-03    0.0\n",
       "3  848935705057280001 2017-04-03    0.1\n",
       "4  848416049573658624 2017-04-02   -0.2"
      ]
     },
     "execution_count": 60,
     "metadata": {},
     "output_type": "execute_result"
    }
   ],
   "source": [
    "output.head()"
   ]
  },
  {
   "cell_type": "code",
   "execution_count": 61,
   "metadata": {},
   "outputs": [],
   "source": [
    "tweet['score']=(score)\n",
    "tweet['source']=[\"twitter\"]*len(tweet)\n",
    "tweet['cid']=['18839']*len(tweet)"
   ]
  },
  {
   "cell_type": "code",
   "execution_count": 62,
   "metadata": {},
   "outputs": [],
   "source": [
    "output = tweet.loc[:,[\"cid\",\"id\",\"date\",\"source\",\"score\"]]"
   ]
  },
  {
   "cell_type": "code",
   "execution_count": 63,
   "metadata": {},
   "outputs": [
    {
     "name": "stderr",
     "output_type": "stream",
     "text": [
      "/Library/Frameworks/Python.framework/Versions/3.7/lib/python3.7/site-packages/ipykernel_launcher.py:8: SettingWithCopyWarning:\n",
      "\n",
      "\n",
      "A value is trying to be set on a copy of a slice from a DataFrame\n",
      "\n",
      "See the caveats in the documentation: http://pandas.pydata.org/pandas-docs/stable/user_guide/indexing.html#returning-a-view-versus-a-copy\n",
      "\n"
     ]
    }
   ],
   "source": [
    "import random\n",
    "\n",
    "t_score = output[['cid','id', 'date', 'source', 'score']]\n",
    "v_score = t_score\n",
    "v_score.source = 'spotify'\n",
    "\n",
    "for i in range(v_score.shape[0]):\n",
    "    v_score.score[i] = random.uniform(-1,1)"
   ]
  },
  {
   "cell_type": "code",
   "execution_count": 64,
   "metadata": {},
   "outputs": [],
   "source": [
    "output = pd.concat([output,v_score],axis = 0)"
   ]
  },
  {
   "cell_type": "code",
   "execution_count": 65,
   "metadata": {},
   "outputs": [],
   "source": [
    "output['score_range'] = output.score.apply(score_range)"
   ]
  },
  {
   "cell_type": "code",
   "execution_count": 66,
   "metadata": {},
   "outputs": [
    {
     "data": {
      "text/html": [
       "<div>\n",
       "<style scoped>\n",
       "    .dataframe tbody tr th:only-of-type {\n",
       "        vertical-align: middle;\n",
       "    }\n",
       "\n",
       "    .dataframe tbody tr th {\n",
       "        vertical-align: top;\n",
       "    }\n",
       "\n",
       "    .dataframe thead th {\n",
       "        text-align: right;\n",
       "    }\n",
       "</style>\n",
       "<table border=\"1\" class=\"dataframe\">\n",
       "  <thead>\n",
       "    <tr style=\"text-align: right;\">\n",
       "      <th></th>\n",
       "      <th>cid</th>\n",
       "      <th>id</th>\n",
       "      <th>date</th>\n",
       "      <th>source</th>\n",
       "      <th>score</th>\n",
       "      <th>score_range</th>\n",
       "    </tr>\n",
       "  </thead>\n",
       "  <tbody>\n",
       "    <tr>\n",
       "      <td>0</td>\n",
       "      <td>18839</td>\n",
       "      <td>849636868052275200</td>\n",
       "      <td>2017-04-05</td>\n",
       "      <td>twitter</td>\n",
       "      <td>0.1</td>\n",
       "      <td>0.0</td>\n",
       "    </tr>\n",
       "    <tr>\n",
       "      <td>1</td>\n",
       "      <td>18839</td>\n",
       "      <td>848988730585096192</td>\n",
       "      <td>2017-04-03</td>\n",
       "      <td>twitter</td>\n",
       "      <td>0.1</td>\n",
       "      <td>0.0</td>\n",
       "    </tr>\n",
       "    <tr>\n",
       "      <td>2</td>\n",
       "      <td>18839</td>\n",
       "      <td>848943072423497728</td>\n",
       "      <td>2017-04-03</td>\n",
       "      <td>twitter</td>\n",
       "      <td>0.0</td>\n",
       "      <td>0.0</td>\n",
       "    </tr>\n",
       "    <tr>\n",
       "      <td>3</td>\n",
       "      <td>18839</td>\n",
       "      <td>848935705057280001</td>\n",
       "      <td>2017-04-03</td>\n",
       "      <td>twitter</td>\n",
       "      <td>0.1</td>\n",
       "      <td>0.0</td>\n",
       "    </tr>\n",
       "    <tr>\n",
       "      <td>4</td>\n",
       "      <td>18839</td>\n",
       "      <td>848416049573658624</td>\n",
       "      <td>2017-04-02</td>\n",
       "      <td>twitter</td>\n",
       "      <td>-0.2</td>\n",
       "      <td>0.0</td>\n",
       "    </tr>\n",
       "  </tbody>\n",
       "</table>\n",
       "</div>"
      ],
      "text/plain": [
       "     cid                  id       date   source  score  score_range\n",
       "0  18839  849636868052275200 2017-04-05  twitter    0.1          0.0\n",
       "1  18839  848988730585096192 2017-04-03  twitter    0.1          0.0\n",
       "2  18839  848943072423497728 2017-04-03  twitter    0.0          0.0\n",
       "3  18839  848935705057280001 2017-04-03  twitter    0.1          0.0\n",
       "4  18839  848416049573658624 2017-04-02  twitter   -0.2          0.0"
      ]
     },
     "execution_count": 66,
     "metadata": {},
     "output_type": "execute_result"
    }
   ],
   "source": [
    "output.head()"
   ]
  },
  {
   "cell_type": "code",
   "execution_count": 94,
   "metadata": {},
   "outputs": [],
   "source": [
    "from scipy import stats\n",
    "\n",
    "#output.groupby(['date','cid']).agg(lambda x: stats.mode(x['score_range'])[0])\n",
    "\n",
    "output_1 = output.groupby(['date','cid'])['score_range'].agg(pd.Series.mode)\n",
    "\n"
   ]
  },
  {
   "cell_type": "code",
   "execution_count": 96,
   "metadata": {},
   "outputs": [],
   "source": [
    "output = output_1.reset_index(level=['cid','date'])"
   ]
  },
  {
   "cell_type": "code",
   "execution_count": 102,
   "metadata": {},
   "outputs": [],
   "source": [
    "output['score_range'] = output.score_range.apply(np.mean)\n"
   ]
  },
  {
   "cell_type": "code",
   "execution_count": 103,
   "metadata": {},
   "outputs": [
    {
     "data": {
      "text/html": [
       "<div>\n",
       "<style scoped>\n",
       "    .dataframe tbody tr th:only-of-type {\n",
       "        vertical-align: middle;\n",
       "    }\n",
       "\n",
       "    .dataframe tbody tr th {\n",
       "        vertical-align: top;\n",
       "    }\n",
       "\n",
       "    .dataframe thead th {\n",
       "        text-align: right;\n",
       "    }\n",
       "</style>\n",
       "<table border=\"1\" class=\"dataframe\">\n",
       "  <thead>\n",
       "    <tr style=\"text-align: right;\">\n",
       "      <th></th>\n",
       "      <th>date</th>\n",
       "      <th>cid</th>\n",
       "      <th>score_range</th>\n",
       "    </tr>\n",
       "  </thead>\n",
       "  <tbody>\n",
       "    <tr>\n",
       "      <td>0</td>\n",
       "      <td>2017-01-05</td>\n",
       "      <td>18839</td>\n",
       "      <td>0.00</td>\n",
       "    </tr>\n",
       "    <tr>\n",
       "      <td>1</td>\n",
       "      <td>2017-01-06</td>\n",
       "      <td>18839</td>\n",
       "      <td>-0.25</td>\n",
       "    </tr>\n",
       "    <tr>\n",
       "      <td>2</td>\n",
       "      <td>2017-01-07</td>\n",
       "      <td>18839</td>\n",
       "      <td>0.00</td>\n",
       "    </tr>\n",
       "    <tr>\n",
       "      <td>3</td>\n",
       "      <td>2017-01-08</td>\n",
       "      <td>18839</td>\n",
       "      <td>0.50</td>\n",
       "    </tr>\n",
       "    <tr>\n",
       "      <td>4</td>\n",
       "      <td>2017-01-10</td>\n",
       "      <td>18839</td>\n",
       "      <td>0.30</td>\n",
       "    </tr>\n",
       "  </tbody>\n",
       "</table>\n",
       "</div>"
      ],
      "text/plain": [
       "        date    cid  score_range\n",
       "0 2017-01-05  18839         0.00\n",
       "1 2017-01-06  18839        -0.25\n",
       "2 2017-01-07  18839         0.00\n",
       "3 2017-01-08  18839         0.50\n",
       "4 2017-01-10  18839         0.30"
      ]
     },
     "execution_count": 103,
     "metadata": {},
     "output_type": "execute_result"
    }
   ],
   "source": [
    "output.head()"
   ]
  },
  {
   "cell_type": "code",
   "execution_count": 38,
   "metadata": {},
   "outputs": [
    {
     "name": "stdout",
     "output_type": "stream",
     "text": [
      "Collecting plotly\n",
      "\u001b[?25l  Downloading https://files.pythonhosted.org/packages/70/19/8437e22c84083a6d5d8a3c80f4edc73c9dcbb89261d07e6bd13b48752bbd/plotly-4.1.1-py2.py3-none-any.whl (7.1MB)\n",
      "\u001b[K     |████████████████████████████████| 7.1MB 2.0MB/s eta 0:00:01     |███████████████████████████▊    | 6.1MB 3.1MB/s eta 0:00:01\n",
      "\u001b[?25hCollecting retrying>=1.3.3 (from plotly)\n",
      "  Downloading https://files.pythonhosted.org/packages/44/ef/beae4b4ef80902f22e3af073397f079c96969c69b2c7d52a57ea9ae61c9d/retrying-1.3.3.tar.gz\n",
      "Requirement already satisfied: six in /Library/Frameworks/Python.framework/Versions/3.7/lib/python3.7/site-packages (from plotly) (1.12.0)\n",
      "Installing collected packages: retrying, plotly\n",
      "  Running setup.py install for retrying ... \u001b[?25ldone\n",
      "\u001b[?25hSuccessfully installed plotly-4.1.1 retrying-1.3.3\n",
      "Note: you may need to restart the kernel to use updated packages.\n"
     ]
    }
   ],
   "source": [
    "pip install plotly"
   ]
  },
  {
   "cell_type": "code",
   "execution_count": 104,
   "metadata": {},
   "outputs": [],
   "source": [
    "import plotly.express as px"
   ]
  },
  {
   "cell_type": "code",
   "execution_count": 105,
   "metadata": {},
   "outputs": [],
   "source": [
    "fig = px.line(output, x = 'date', y = 'score_range')"
   ]
  },
  {
   "cell_type": "code",
   "execution_count": 106,
   "metadata": {},
   "outputs": [
    {
     "data": {
      "application/vnd.plotly.v1+json": {
       "config": {
        "plotlyServerURL": "https://plot.ly"
       },
       "data": [
        {
         "hoverlabel": {
          "namelength": 0
         },
         "hovertemplate": "date=%{x}<br>score_range=%{y}",
         "legendgroup": "",
         "line": {
          "color": "#636efa",
          "dash": "solid"
         },
         "mode": "lines",
         "name": "",
         "showlegend": false,
         "type": "scatter",
         "x": [
          "2017-01-05T00:00:00",
          "2017-01-06T00:00:00",
          "2017-01-07T00:00:00",
          "2017-01-08T00:00:00",
          "2017-01-10T00:00:00",
          "2017-01-11T00:00:00",
          "2017-01-12T00:00:00",
          "2017-01-13T00:00:00",
          "2017-01-14T00:00:00",
          "2017-01-15T00:00:00",
          "2017-01-16T00:00:00",
          "2017-01-18T00:00:00",
          "2017-01-19T00:00:00",
          "2017-01-21T00:00:00",
          "2017-01-22T00:00:00",
          "2017-01-23T00:00:00",
          "2017-01-24T00:00:00",
          "2017-01-25T00:00:00",
          "2017-01-26T00:00:00",
          "2017-01-27T00:00:00",
          "2017-01-28T00:00:00",
          "2017-01-29T00:00:00",
          "2017-01-30T00:00:00",
          "2017-01-31T00:00:00",
          "2017-02-02T00:00:00",
          "2017-02-03T00:00:00",
          "2017-02-04T00:00:00",
          "2017-02-05T00:00:00",
          "2017-02-07T00:00:00",
          "2017-02-08T00:00:00",
          "2017-02-09T00:00:00",
          "2017-02-10T00:00:00",
          "2017-02-11T00:00:00",
          "2017-02-15T00:00:00",
          "2017-02-16T00:00:00",
          "2017-02-17T00:00:00",
          "2017-02-18T00:00:00",
          "2017-02-19T00:00:00",
          "2017-02-23T00:00:00",
          "2017-02-24T00:00:00",
          "2017-02-25T00:00:00",
          "2017-02-27T00:00:00",
          "2017-02-28T00:00:00",
          "2017-03-02T00:00:00",
          "2017-03-06T00:00:00",
          "2017-03-10T00:00:00",
          "2017-03-11T00:00:00",
          "2017-03-12T00:00:00",
          "2017-03-13T00:00:00",
          "2017-03-14T00:00:00",
          "2017-03-16T00:00:00",
          "2017-03-19T00:00:00",
          "2017-03-22T00:00:00",
          "2017-03-23T00:00:00",
          "2017-03-24T00:00:00",
          "2017-03-25T00:00:00",
          "2017-03-28T00:00:00",
          "2017-03-29T00:00:00",
          "2017-03-30T00:00:00",
          "2017-03-31T00:00:00",
          "2017-04-01T00:00:00",
          "2017-04-02T00:00:00",
          "2017-04-03T00:00:00",
          "2017-04-05T00:00:00"
         ],
         "xaxis": "x",
         "y": [
          0,
          -0.25,
          0,
          0.5,
          0.3,
          0,
          0,
          0,
          0,
          0,
          0,
          0,
          0,
          0,
          0,
          0.15,
          0,
          0,
          -0.25,
          0,
          -0.5,
          0,
          0,
          -0.55,
          0,
          0,
          0,
          0,
          0,
          0,
          0,
          0,
          0,
          -0.06666666666666667,
          0,
          0.5,
          0,
          0,
          -0.25,
          0,
          0,
          0,
          0,
          -0.1,
          0,
          0,
          -0.1,
          0,
          -0.25,
          0.4,
          0,
          0,
          0,
          0.15,
          0,
          0.4,
          -0.15,
          0,
          0,
          0,
          0,
          -0.4,
          0,
          -0.25
         ],
         "yaxis": "y"
        }
       ],
       "layout": {
        "height": 600,
        "legend": {
         "tracegroupgap": 0
        },
        "margin": {
         "t": 60
        },
        "template": {
         "data": {
          "bar": [
           {
            "error_x": {
             "color": "#2a3f5f"
            },
            "error_y": {
             "color": "#2a3f5f"
            },
            "marker": {
             "line": {
              "color": "#E5ECF6",
              "width": 0.5
             }
            },
            "type": "bar"
           }
          ],
          "barpolar": [
           {
            "marker": {
             "line": {
              "color": "#E5ECF6",
              "width": 0.5
             }
            },
            "type": "barpolar"
           }
          ],
          "carpet": [
           {
            "aaxis": {
             "endlinecolor": "#2a3f5f",
             "gridcolor": "white",
             "linecolor": "white",
             "minorgridcolor": "white",
             "startlinecolor": "#2a3f5f"
            },
            "baxis": {
             "endlinecolor": "#2a3f5f",
             "gridcolor": "white",
             "linecolor": "white",
             "minorgridcolor": "white",
             "startlinecolor": "#2a3f5f"
            },
            "type": "carpet"
           }
          ],
          "choropleth": [
           {
            "colorbar": {
             "outlinewidth": 0,
             "ticks": ""
            },
            "type": "choropleth"
           }
          ],
          "contour": [
           {
            "colorbar": {
             "outlinewidth": 0,
             "ticks": ""
            },
            "colorscale": [
             [
              0,
              "#0d0887"
             ],
             [
              0.1111111111111111,
              "#46039f"
             ],
             [
              0.2222222222222222,
              "#7201a8"
             ],
             [
              0.3333333333333333,
              "#9c179e"
             ],
             [
              0.4444444444444444,
              "#bd3786"
             ],
             [
              0.5555555555555556,
              "#d8576b"
             ],
             [
              0.6666666666666666,
              "#ed7953"
             ],
             [
              0.7777777777777778,
              "#fb9f3a"
             ],
             [
              0.8888888888888888,
              "#fdca26"
             ],
             [
              1,
              "#f0f921"
             ]
            ],
            "type": "contour"
           }
          ],
          "contourcarpet": [
           {
            "colorbar": {
             "outlinewidth": 0,
             "ticks": ""
            },
            "type": "contourcarpet"
           }
          ],
          "heatmap": [
           {
            "colorbar": {
             "outlinewidth": 0,
             "ticks": ""
            },
            "colorscale": [
             [
              0,
              "#0d0887"
             ],
             [
              0.1111111111111111,
              "#46039f"
             ],
             [
              0.2222222222222222,
              "#7201a8"
             ],
             [
              0.3333333333333333,
              "#9c179e"
             ],
             [
              0.4444444444444444,
              "#bd3786"
             ],
             [
              0.5555555555555556,
              "#d8576b"
             ],
             [
              0.6666666666666666,
              "#ed7953"
             ],
             [
              0.7777777777777778,
              "#fb9f3a"
             ],
             [
              0.8888888888888888,
              "#fdca26"
             ],
             [
              1,
              "#f0f921"
             ]
            ],
            "type": "heatmap"
           }
          ],
          "heatmapgl": [
           {
            "colorbar": {
             "outlinewidth": 0,
             "ticks": ""
            },
            "colorscale": [
             [
              0,
              "#0d0887"
             ],
             [
              0.1111111111111111,
              "#46039f"
             ],
             [
              0.2222222222222222,
              "#7201a8"
             ],
             [
              0.3333333333333333,
              "#9c179e"
             ],
             [
              0.4444444444444444,
              "#bd3786"
             ],
             [
              0.5555555555555556,
              "#d8576b"
             ],
             [
              0.6666666666666666,
              "#ed7953"
             ],
             [
              0.7777777777777778,
              "#fb9f3a"
             ],
             [
              0.8888888888888888,
              "#fdca26"
             ],
             [
              1,
              "#f0f921"
             ]
            ],
            "type": "heatmapgl"
           }
          ],
          "histogram": [
           {
            "marker": {
             "colorbar": {
              "outlinewidth": 0,
              "ticks": ""
             }
            },
            "type": "histogram"
           }
          ],
          "histogram2d": [
           {
            "colorbar": {
             "outlinewidth": 0,
             "ticks": ""
            },
            "colorscale": [
             [
              0,
              "#0d0887"
             ],
             [
              0.1111111111111111,
              "#46039f"
             ],
             [
              0.2222222222222222,
              "#7201a8"
             ],
             [
              0.3333333333333333,
              "#9c179e"
             ],
             [
              0.4444444444444444,
              "#bd3786"
             ],
             [
              0.5555555555555556,
              "#d8576b"
             ],
             [
              0.6666666666666666,
              "#ed7953"
             ],
             [
              0.7777777777777778,
              "#fb9f3a"
             ],
             [
              0.8888888888888888,
              "#fdca26"
             ],
             [
              1,
              "#f0f921"
             ]
            ],
            "type": "histogram2d"
           }
          ],
          "histogram2dcontour": [
           {
            "colorbar": {
             "outlinewidth": 0,
             "ticks": ""
            },
            "colorscale": [
             [
              0,
              "#0d0887"
             ],
             [
              0.1111111111111111,
              "#46039f"
             ],
             [
              0.2222222222222222,
              "#7201a8"
             ],
             [
              0.3333333333333333,
              "#9c179e"
             ],
             [
              0.4444444444444444,
              "#bd3786"
             ],
             [
              0.5555555555555556,
              "#d8576b"
             ],
             [
              0.6666666666666666,
              "#ed7953"
             ],
             [
              0.7777777777777778,
              "#fb9f3a"
             ],
             [
              0.8888888888888888,
              "#fdca26"
             ],
             [
              1,
              "#f0f921"
             ]
            ],
            "type": "histogram2dcontour"
           }
          ],
          "mesh3d": [
           {
            "colorbar": {
             "outlinewidth": 0,
             "ticks": ""
            },
            "type": "mesh3d"
           }
          ],
          "parcoords": [
           {
            "line": {
             "colorbar": {
              "outlinewidth": 0,
              "ticks": ""
             }
            },
            "type": "parcoords"
           }
          ],
          "scatter": [
           {
            "marker": {
             "colorbar": {
              "outlinewidth": 0,
              "ticks": ""
             }
            },
            "type": "scatter"
           }
          ],
          "scatter3d": [
           {
            "line": {
             "colorbar": {
              "outlinewidth": 0,
              "ticks": ""
             }
            },
            "marker": {
             "colorbar": {
              "outlinewidth": 0,
              "ticks": ""
             }
            },
            "type": "scatter3d"
           }
          ],
          "scattercarpet": [
           {
            "marker": {
             "colorbar": {
              "outlinewidth": 0,
              "ticks": ""
             }
            },
            "type": "scattercarpet"
           }
          ],
          "scattergeo": [
           {
            "marker": {
             "colorbar": {
              "outlinewidth": 0,
              "ticks": ""
             }
            },
            "type": "scattergeo"
           }
          ],
          "scattergl": [
           {
            "marker": {
             "colorbar": {
              "outlinewidth": 0,
              "ticks": ""
             }
            },
            "type": "scattergl"
           }
          ],
          "scattermapbox": [
           {
            "marker": {
             "colorbar": {
              "outlinewidth": 0,
              "ticks": ""
             }
            },
            "type": "scattermapbox"
           }
          ],
          "scatterpolar": [
           {
            "marker": {
             "colorbar": {
              "outlinewidth": 0,
              "ticks": ""
             }
            },
            "type": "scatterpolar"
           }
          ],
          "scatterpolargl": [
           {
            "marker": {
             "colorbar": {
              "outlinewidth": 0,
              "ticks": ""
             }
            },
            "type": "scatterpolargl"
           }
          ],
          "scatterternary": [
           {
            "marker": {
             "colorbar": {
              "outlinewidth": 0,
              "ticks": ""
             }
            },
            "type": "scatterternary"
           }
          ],
          "surface": [
           {
            "colorbar": {
             "outlinewidth": 0,
             "ticks": ""
            },
            "colorscale": [
             [
              0,
              "#0d0887"
             ],
             [
              0.1111111111111111,
              "#46039f"
             ],
             [
              0.2222222222222222,
              "#7201a8"
             ],
             [
              0.3333333333333333,
              "#9c179e"
             ],
             [
              0.4444444444444444,
              "#bd3786"
             ],
             [
              0.5555555555555556,
              "#d8576b"
             ],
             [
              0.6666666666666666,
              "#ed7953"
             ],
             [
              0.7777777777777778,
              "#fb9f3a"
             ],
             [
              0.8888888888888888,
              "#fdca26"
             ],
             [
              1,
              "#f0f921"
             ]
            ],
            "type": "surface"
           }
          ],
          "table": [
           {
            "cells": {
             "fill": {
              "color": "#EBF0F8"
             },
             "line": {
              "color": "white"
             }
            },
            "header": {
             "fill": {
              "color": "#C8D4E3"
             },
             "line": {
              "color": "white"
             }
            },
            "type": "table"
           }
          ]
         },
         "layout": {
          "annotationdefaults": {
           "arrowcolor": "#2a3f5f",
           "arrowhead": 0,
           "arrowwidth": 1
          },
          "colorscale": {
           "diverging": [
            [
             0,
             "#8e0152"
            ],
            [
             0.1,
             "#c51b7d"
            ],
            [
             0.2,
             "#de77ae"
            ],
            [
             0.3,
             "#f1b6da"
            ],
            [
             0.4,
             "#fde0ef"
            ],
            [
             0.5,
             "#f7f7f7"
            ],
            [
             0.6,
             "#e6f5d0"
            ],
            [
             0.7,
             "#b8e186"
            ],
            [
             0.8,
             "#7fbc41"
            ],
            [
             0.9,
             "#4d9221"
            ],
            [
             1,
             "#276419"
            ]
           ],
           "sequential": [
            [
             0,
             "#0d0887"
            ],
            [
             0.1111111111111111,
             "#46039f"
            ],
            [
             0.2222222222222222,
             "#7201a8"
            ],
            [
             0.3333333333333333,
             "#9c179e"
            ],
            [
             0.4444444444444444,
             "#bd3786"
            ],
            [
             0.5555555555555556,
             "#d8576b"
            ],
            [
             0.6666666666666666,
             "#ed7953"
            ],
            [
             0.7777777777777778,
             "#fb9f3a"
            ],
            [
             0.8888888888888888,
             "#fdca26"
            ],
            [
             1,
             "#f0f921"
            ]
           ],
           "sequentialminus": [
            [
             0,
             "#0d0887"
            ],
            [
             0.1111111111111111,
             "#46039f"
            ],
            [
             0.2222222222222222,
             "#7201a8"
            ],
            [
             0.3333333333333333,
             "#9c179e"
            ],
            [
             0.4444444444444444,
             "#bd3786"
            ],
            [
             0.5555555555555556,
             "#d8576b"
            ],
            [
             0.6666666666666666,
             "#ed7953"
            ],
            [
             0.7777777777777778,
             "#fb9f3a"
            ],
            [
             0.8888888888888888,
             "#fdca26"
            ],
            [
             1,
             "#f0f921"
            ]
           ]
          },
          "colorway": [
           "#636efa",
           "#EF553B",
           "#00cc96",
           "#ab63fa",
           "#FFA15A",
           "#19d3f3",
           "#FF6692",
           "#B6E880",
           "#FF97FF",
           "#FECB52"
          ],
          "font": {
           "color": "#2a3f5f"
          },
          "geo": {
           "bgcolor": "white",
           "lakecolor": "white",
           "landcolor": "#E5ECF6",
           "showlakes": true,
           "showland": true,
           "subunitcolor": "white"
          },
          "hoverlabel": {
           "align": "left"
          },
          "hovermode": "closest",
          "mapbox": {
           "style": "light"
          },
          "paper_bgcolor": "white",
          "plot_bgcolor": "#E5ECF6",
          "polar": {
           "angularaxis": {
            "gridcolor": "white",
            "linecolor": "white",
            "ticks": ""
           },
           "bgcolor": "#E5ECF6",
           "radialaxis": {
            "gridcolor": "white",
            "linecolor": "white",
            "ticks": ""
           }
          },
          "scene": {
           "xaxis": {
            "backgroundcolor": "#E5ECF6",
            "gridcolor": "white",
            "gridwidth": 2,
            "linecolor": "white",
            "showbackground": true,
            "ticks": "",
            "zerolinecolor": "white"
           },
           "yaxis": {
            "backgroundcolor": "#E5ECF6",
            "gridcolor": "white",
            "gridwidth": 2,
            "linecolor": "white",
            "showbackground": true,
            "ticks": "",
            "zerolinecolor": "white"
           },
           "zaxis": {
            "backgroundcolor": "#E5ECF6",
            "gridcolor": "white",
            "gridwidth": 2,
            "linecolor": "white",
            "showbackground": true,
            "ticks": "",
            "zerolinecolor": "white"
           }
          },
          "shapedefaults": {
           "line": {
            "color": "#2a3f5f"
           }
          },
          "ternary": {
           "aaxis": {
            "gridcolor": "white",
            "linecolor": "white",
            "ticks": ""
           },
           "baxis": {
            "gridcolor": "white",
            "linecolor": "white",
            "ticks": ""
           },
           "bgcolor": "#E5ECF6",
           "caxis": {
            "gridcolor": "white",
            "linecolor": "white",
            "ticks": ""
           }
          },
          "title": {
           "x": 0.05
          },
          "xaxis": {
           "automargin": true,
           "gridcolor": "white",
           "linecolor": "white",
           "ticks": "",
           "zerolinecolor": "white",
           "zerolinewidth": 2
          },
          "yaxis": {
           "automargin": true,
           "gridcolor": "white",
           "linecolor": "white",
           "ticks": "",
           "zerolinecolor": "white",
           "zerolinewidth": 2
          }
         }
        },
        "xaxis": {
         "anchor": "y",
         "domain": [
          0,
          0.98
         ],
         "title": {
          "text": "date"
         }
        },
        "yaxis": {
         "anchor": "x",
         "domain": [
          0,
          1
         ],
         "title": {
          "text": "score_range"
         }
        }
       }
      },
      "text/html": [
       "<div>\n",
       "        \n",
       "        \n",
       "            <div id=\"b2df5989-6605-4be9-bde0-4566aaebaf95\" class=\"plotly-graph-div\" style=\"height:600px; width:100%;\"></div>\n",
       "            <script type=\"text/javascript\">\n",
       "                require([\"plotly\"], function(Plotly) {\n",
       "                    window.PLOTLYENV=window.PLOTLYENV || {};\n",
       "                    \n",
       "                if (document.getElementById(\"b2df5989-6605-4be9-bde0-4566aaebaf95\")) {\n",
       "                    Plotly.newPlot(\n",
       "                        'b2df5989-6605-4be9-bde0-4566aaebaf95',\n",
       "                        [{\"hoverlabel\": {\"namelength\": 0}, \"hovertemplate\": \"date=%{x}<br>score_range=%{y}\", \"legendgroup\": \"\", \"line\": {\"color\": \"#636efa\", \"dash\": \"solid\"}, \"mode\": \"lines\", \"name\": \"\", \"showlegend\": false, \"type\": \"scatter\", \"x\": [\"2017-01-05T00:00:00\", \"2017-01-06T00:00:00\", \"2017-01-07T00:00:00\", \"2017-01-08T00:00:00\", \"2017-01-10T00:00:00\", \"2017-01-11T00:00:00\", \"2017-01-12T00:00:00\", \"2017-01-13T00:00:00\", \"2017-01-14T00:00:00\", \"2017-01-15T00:00:00\", \"2017-01-16T00:00:00\", \"2017-01-18T00:00:00\", \"2017-01-19T00:00:00\", \"2017-01-21T00:00:00\", \"2017-01-22T00:00:00\", \"2017-01-23T00:00:00\", \"2017-01-24T00:00:00\", \"2017-01-25T00:00:00\", \"2017-01-26T00:00:00\", \"2017-01-27T00:00:00\", \"2017-01-28T00:00:00\", \"2017-01-29T00:00:00\", \"2017-01-30T00:00:00\", \"2017-01-31T00:00:00\", \"2017-02-02T00:00:00\", \"2017-02-03T00:00:00\", \"2017-02-04T00:00:00\", \"2017-02-05T00:00:00\", \"2017-02-07T00:00:00\", \"2017-02-08T00:00:00\", \"2017-02-09T00:00:00\", \"2017-02-10T00:00:00\", \"2017-02-11T00:00:00\", \"2017-02-15T00:00:00\", \"2017-02-16T00:00:00\", \"2017-02-17T00:00:00\", \"2017-02-18T00:00:00\", \"2017-02-19T00:00:00\", \"2017-02-23T00:00:00\", \"2017-02-24T00:00:00\", \"2017-02-25T00:00:00\", \"2017-02-27T00:00:00\", \"2017-02-28T00:00:00\", \"2017-03-02T00:00:00\", \"2017-03-06T00:00:00\", \"2017-03-10T00:00:00\", \"2017-03-11T00:00:00\", \"2017-03-12T00:00:00\", \"2017-03-13T00:00:00\", \"2017-03-14T00:00:00\", \"2017-03-16T00:00:00\", \"2017-03-19T00:00:00\", \"2017-03-22T00:00:00\", \"2017-03-23T00:00:00\", \"2017-03-24T00:00:00\", \"2017-03-25T00:00:00\", \"2017-03-28T00:00:00\", \"2017-03-29T00:00:00\", \"2017-03-30T00:00:00\", \"2017-03-31T00:00:00\", \"2017-04-01T00:00:00\", \"2017-04-02T00:00:00\", \"2017-04-03T00:00:00\", \"2017-04-05T00:00:00\"], \"xaxis\": \"x\", \"y\": [0.0, -0.25, 0.0, 0.5, 0.3, 0.0, 0.0, 0.0, 0.0, 0.0, 0.0, 0.0, 0.0, 0.0, 0.0, 0.15, 0.0, 0.0, -0.25, 0.0, -0.5, 0.0, 0.0, -0.55, 0.0, 0.0, 0.0, 0.0, 0.0, 0.0, 0.0, 0.0, 0.0, -0.06666666666666667, 0.0, 0.5, 0.0, 0.0, -0.25, 0.0, 0.0, 0.0, 0.0, -0.1, 0.0, 0.0, -0.1, 0.0, -0.25, 0.4, 0.0, 0.0, 0.0, 0.15, 0.0, 0.4, -0.15, 0.0, 0.0, 0.0, 0.0, -0.4, 0.0, -0.25], \"yaxis\": \"y\"}],\n",
       "                        {\"height\": 600, \"legend\": {\"tracegroupgap\": 0}, \"margin\": {\"t\": 60}, \"template\": {\"data\": {\"bar\": [{\"error_x\": {\"color\": \"#2a3f5f\"}, \"error_y\": {\"color\": \"#2a3f5f\"}, \"marker\": {\"line\": {\"color\": \"#E5ECF6\", \"width\": 0.5}}, \"type\": \"bar\"}], \"barpolar\": [{\"marker\": {\"line\": {\"color\": \"#E5ECF6\", \"width\": 0.5}}, \"type\": \"barpolar\"}], \"carpet\": [{\"aaxis\": {\"endlinecolor\": \"#2a3f5f\", \"gridcolor\": \"white\", \"linecolor\": \"white\", \"minorgridcolor\": \"white\", \"startlinecolor\": \"#2a3f5f\"}, \"baxis\": {\"endlinecolor\": \"#2a3f5f\", \"gridcolor\": \"white\", \"linecolor\": \"white\", \"minorgridcolor\": \"white\", \"startlinecolor\": \"#2a3f5f\"}, \"type\": \"carpet\"}], \"choropleth\": [{\"colorbar\": {\"outlinewidth\": 0, \"ticks\": \"\"}, \"type\": \"choropleth\"}], \"contour\": [{\"colorbar\": {\"outlinewidth\": 0, \"ticks\": \"\"}, \"colorscale\": [[0.0, \"#0d0887\"], [0.1111111111111111, \"#46039f\"], [0.2222222222222222, \"#7201a8\"], [0.3333333333333333, \"#9c179e\"], [0.4444444444444444, \"#bd3786\"], [0.5555555555555556, \"#d8576b\"], [0.6666666666666666, \"#ed7953\"], [0.7777777777777778, \"#fb9f3a\"], [0.8888888888888888, \"#fdca26\"], [1.0, \"#f0f921\"]], \"type\": \"contour\"}], \"contourcarpet\": [{\"colorbar\": {\"outlinewidth\": 0, \"ticks\": \"\"}, \"type\": \"contourcarpet\"}], \"heatmap\": [{\"colorbar\": {\"outlinewidth\": 0, \"ticks\": \"\"}, \"colorscale\": [[0.0, \"#0d0887\"], [0.1111111111111111, \"#46039f\"], [0.2222222222222222, \"#7201a8\"], [0.3333333333333333, \"#9c179e\"], [0.4444444444444444, \"#bd3786\"], [0.5555555555555556, \"#d8576b\"], [0.6666666666666666, \"#ed7953\"], [0.7777777777777778, \"#fb9f3a\"], [0.8888888888888888, \"#fdca26\"], [1.0, \"#f0f921\"]], \"type\": \"heatmap\"}], \"heatmapgl\": [{\"colorbar\": {\"outlinewidth\": 0, \"ticks\": \"\"}, \"colorscale\": [[0.0, \"#0d0887\"], [0.1111111111111111, \"#46039f\"], [0.2222222222222222, \"#7201a8\"], [0.3333333333333333, \"#9c179e\"], [0.4444444444444444, \"#bd3786\"], [0.5555555555555556, \"#d8576b\"], [0.6666666666666666, \"#ed7953\"], [0.7777777777777778, \"#fb9f3a\"], [0.8888888888888888, \"#fdca26\"], [1.0, \"#f0f921\"]], \"type\": \"heatmapgl\"}], \"histogram\": [{\"marker\": {\"colorbar\": {\"outlinewidth\": 0, \"ticks\": \"\"}}, \"type\": \"histogram\"}], \"histogram2d\": [{\"colorbar\": {\"outlinewidth\": 0, \"ticks\": \"\"}, \"colorscale\": [[0.0, \"#0d0887\"], [0.1111111111111111, \"#46039f\"], [0.2222222222222222, \"#7201a8\"], [0.3333333333333333, \"#9c179e\"], [0.4444444444444444, \"#bd3786\"], [0.5555555555555556, \"#d8576b\"], [0.6666666666666666, \"#ed7953\"], [0.7777777777777778, \"#fb9f3a\"], [0.8888888888888888, \"#fdca26\"], [1.0, \"#f0f921\"]], \"type\": \"histogram2d\"}], \"histogram2dcontour\": [{\"colorbar\": {\"outlinewidth\": 0, \"ticks\": \"\"}, \"colorscale\": [[0.0, \"#0d0887\"], [0.1111111111111111, \"#46039f\"], [0.2222222222222222, \"#7201a8\"], [0.3333333333333333, \"#9c179e\"], [0.4444444444444444, \"#bd3786\"], [0.5555555555555556, \"#d8576b\"], [0.6666666666666666, \"#ed7953\"], [0.7777777777777778, \"#fb9f3a\"], [0.8888888888888888, \"#fdca26\"], [1.0, \"#f0f921\"]], \"type\": \"histogram2dcontour\"}], \"mesh3d\": [{\"colorbar\": {\"outlinewidth\": 0, \"ticks\": \"\"}, \"type\": \"mesh3d\"}], \"parcoords\": [{\"line\": {\"colorbar\": {\"outlinewidth\": 0, \"ticks\": \"\"}}, \"type\": \"parcoords\"}], \"scatter\": [{\"marker\": {\"colorbar\": {\"outlinewidth\": 0, \"ticks\": \"\"}}, \"type\": \"scatter\"}], \"scatter3d\": [{\"line\": {\"colorbar\": {\"outlinewidth\": 0, \"ticks\": \"\"}}, \"marker\": {\"colorbar\": {\"outlinewidth\": 0, \"ticks\": \"\"}}, \"type\": \"scatter3d\"}], \"scattercarpet\": [{\"marker\": {\"colorbar\": {\"outlinewidth\": 0, \"ticks\": \"\"}}, \"type\": \"scattercarpet\"}], \"scattergeo\": [{\"marker\": {\"colorbar\": {\"outlinewidth\": 0, \"ticks\": \"\"}}, \"type\": \"scattergeo\"}], \"scattergl\": [{\"marker\": {\"colorbar\": {\"outlinewidth\": 0, \"ticks\": \"\"}}, \"type\": \"scattergl\"}], \"scattermapbox\": [{\"marker\": {\"colorbar\": {\"outlinewidth\": 0, \"ticks\": \"\"}}, \"type\": \"scattermapbox\"}], \"scatterpolar\": [{\"marker\": {\"colorbar\": {\"outlinewidth\": 0, \"ticks\": \"\"}}, \"type\": \"scatterpolar\"}], \"scatterpolargl\": [{\"marker\": {\"colorbar\": {\"outlinewidth\": 0, \"ticks\": \"\"}}, \"type\": \"scatterpolargl\"}], \"scatterternary\": [{\"marker\": {\"colorbar\": {\"outlinewidth\": 0, \"ticks\": \"\"}}, \"type\": \"scatterternary\"}], \"surface\": [{\"colorbar\": {\"outlinewidth\": 0, \"ticks\": \"\"}, \"colorscale\": [[0.0, \"#0d0887\"], [0.1111111111111111, \"#46039f\"], [0.2222222222222222, \"#7201a8\"], [0.3333333333333333, \"#9c179e\"], [0.4444444444444444, \"#bd3786\"], [0.5555555555555556, \"#d8576b\"], [0.6666666666666666, \"#ed7953\"], [0.7777777777777778, \"#fb9f3a\"], [0.8888888888888888, \"#fdca26\"], [1.0, \"#f0f921\"]], \"type\": \"surface\"}], \"table\": [{\"cells\": {\"fill\": {\"color\": \"#EBF0F8\"}, \"line\": {\"color\": \"white\"}}, \"header\": {\"fill\": {\"color\": \"#C8D4E3\"}, \"line\": {\"color\": \"white\"}}, \"type\": \"table\"}]}, \"layout\": {\"annotationdefaults\": {\"arrowcolor\": \"#2a3f5f\", \"arrowhead\": 0, \"arrowwidth\": 1}, \"colorscale\": {\"diverging\": [[0, \"#8e0152\"], [0.1, \"#c51b7d\"], [0.2, \"#de77ae\"], [0.3, \"#f1b6da\"], [0.4, \"#fde0ef\"], [0.5, \"#f7f7f7\"], [0.6, \"#e6f5d0\"], [0.7, \"#b8e186\"], [0.8, \"#7fbc41\"], [0.9, \"#4d9221\"], [1, \"#276419\"]], \"sequential\": [[0.0, \"#0d0887\"], [0.1111111111111111, \"#46039f\"], [0.2222222222222222, \"#7201a8\"], [0.3333333333333333, \"#9c179e\"], [0.4444444444444444, \"#bd3786\"], [0.5555555555555556, \"#d8576b\"], [0.6666666666666666, \"#ed7953\"], [0.7777777777777778, \"#fb9f3a\"], [0.8888888888888888, \"#fdca26\"], [1.0, \"#f0f921\"]], \"sequentialminus\": [[0.0, \"#0d0887\"], [0.1111111111111111, \"#46039f\"], [0.2222222222222222, \"#7201a8\"], [0.3333333333333333, \"#9c179e\"], [0.4444444444444444, \"#bd3786\"], [0.5555555555555556, \"#d8576b\"], [0.6666666666666666, \"#ed7953\"], [0.7777777777777778, \"#fb9f3a\"], [0.8888888888888888, \"#fdca26\"], [1.0, \"#f0f921\"]]}, \"colorway\": [\"#636efa\", \"#EF553B\", \"#00cc96\", \"#ab63fa\", \"#FFA15A\", \"#19d3f3\", \"#FF6692\", \"#B6E880\", \"#FF97FF\", \"#FECB52\"], \"font\": {\"color\": \"#2a3f5f\"}, \"geo\": {\"bgcolor\": \"white\", \"lakecolor\": \"white\", \"landcolor\": \"#E5ECF6\", \"showlakes\": true, \"showland\": true, \"subunitcolor\": \"white\"}, \"hoverlabel\": {\"align\": \"left\"}, \"hovermode\": \"closest\", \"mapbox\": {\"style\": \"light\"}, \"paper_bgcolor\": \"white\", \"plot_bgcolor\": \"#E5ECF6\", \"polar\": {\"angularaxis\": {\"gridcolor\": \"white\", \"linecolor\": \"white\", \"ticks\": \"\"}, \"bgcolor\": \"#E5ECF6\", \"radialaxis\": {\"gridcolor\": \"white\", \"linecolor\": \"white\", \"ticks\": \"\"}}, \"scene\": {\"xaxis\": {\"backgroundcolor\": \"#E5ECF6\", \"gridcolor\": \"white\", \"gridwidth\": 2, \"linecolor\": \"white\", \"showbackground\": true, \"ticks\": \"\", \"zerolinecolor\": \"white\"}, \"yaxis\": {\"backgroundcolor\": \"#E5ECF6\", \"gridcolor\": \"white\", \"gridwidth\": 2, \"linecolor\": \"white\", \"showbackground\": true, \"ticks\": \"\", \"zerolinecolor\": \"white\"}, \"zaxis\": {\"backgroundcolor\": \"#E5ECF6\", \"gridcolor\": \"white\", \"gridwidth\": 2, \"linecolor\": \"white\", \"showbackground\": true, \"ticks\": \"\", \"zerolinecolor\": \"white\"}}, \"shapedefaults\": {\"line\": {\"color\": \"#2a3f5f\"}}, \"ternary\": {\"aaxis\": {\"gridcolor\": \"white\", \"linecolor\": \"white\", \"ticks\": \"\"}, \"baxis\": {\"gridcolor\": \"white\", \"linecolor\": \"white\", \"ticks\": \"\"}, \"bgcolor\": \"#E5ECF6\", \"caxis\": {\"gridcolor\": \"white\", \"linecolor\": \"white\", \"ticks\": \"\"}}, \"title\": {\"x\": 0.05}, \"xaxis\": {\"automargin\": true, \"gridcolor\": \"white\", \"linecolor\": \"white\", \"ticks\": \"\", \"zerolinecolor\": \"white\", \"zerolinewidth\": 2}, \"yaxis\": {\"automargin\": true, \"gridcolor\": \"white\", \"linecolor\": \"white\", \"ticks\": \"\", \"zerolinecolor\": \"white\", \"zerolinewidth\": 2}}}, \"xaxis\": {\"anchor\": \"y\", \"domain\": [0.0, 0.98], \"title\": {\"text\": \"date\"}}, \"yaxis\": {\"anchor\": \"x\", \"domain\": [0.0, 1.0], \"title\": {\"text\": \"score_range\"}}},\n",
       "                        {\"responsive\": true}\n",
       "                    ).then(function(){\n",
       "                            \n",
       "var gd = document.getElementById('b2df5989-6605-4be9-bde0-4566aaebaf95');\n",
       "var x = new MutationObserver(function (mutations, observer) {{\n",
       "        var display = window.getComputedStyle(gd).display;\n",
       "        if (!display || display === 'none') {{\n",
       "            console.log([gd, 'removed!']);\n",
       "            Plotly.purge(gd);\n",
       "            observer.disconnect();\n",
       "        }}\n",
       "}});\n",
       "\n",
       "// Listen for the removal of the full notebook cells\n",
       "var notebookContainer = gd.closest('#notebook-container');\n",
       "if (notebookContainer) {{\n",
       "    x.observe(notebookContainer, {childList: true});\n",
       "}}\n",
       "\n",
       "// Listen for the clearing of the current output cell\n",
       "var outputEl = gd.closest('.output');\n",
       "if (outputEl) {{\n",
       "    x.observe(outputEl, {childList: true});\n",
       "}}\n",
       "\n",
       "                        })\n",
       "                };\n",
       "                });\n",
       "            </script>\n",
       "        </div>"
      ]
     },
     "metadata": {},
     "output_type": "display_data"
    }
   ],
   "source": [
    "fig.show()"
   ]
  },
  {
   "cell_type": "code",
   "execution_count": 174,
   "metadata": {},
   "outputs": [],
   "source": [
    "d = [{'id': '1183223595008266241', 'date': 'Sun Oct 13 03:31:02 +0000 2019', 'text': '@jay11w Recommended for sure. Both movies are incredible.'}, {'id': '1183222226130046980', 'date': 'Sun Oct 13 03:25:36 +0000 2019', 'text': 'First will rewatch Godfather Part II, then Space Jam'}, {'id': '1183221390016536581', 'date': 'Sun Oct 13 03:22:17 +0000 2019', 'text': 'Underappreciated 🎥, will watch!'}, {'id': '1183220879951462400', 'date': 'Sun Oct 13 03:20:15 +0000 2019', 'text': 'Is Space Jam good?'}, {'id': '1183201528036786178', 'date': 'Sun Oct 13 02:03:21 +0000 2019', 'text': '@Nobody_Really7 @anonyx10 @mayemusk So it goes'}, {'id': '1183198657136324610', 'date': 'Sun Oct 13 01:51:57 +0000 2019', 'text': '@anonyx10 @mayemusk Sure looks that way'}, {'id': '1183152738382667777', 'date': 'Sat Oct 12 22:49:29 +0000 2019', 'text': '@owlmaster08 @Tesla Nice 🤣🤣'}, {'id': '1183150916473516032', 'date': 'Sat Oct 12 22:42:15 +0000 2019', 'text': '@Erdayastronaut Solar'}, {'id': '1183150883162349569', 'date': 'Sat Oct 12 22:42:07 +0000 2019', 'text': '@Erdayastronaut Depends on total system efficiency &amp; how long the propellant plant can run to refill Starship, so 1 to 10MW as a rough guess'}, {'id': '1183123445787185152', 'date': 'Sat Oct 12 20:53:05 +0000 2019', 'text': '@bonnienorman Whoa, that does look good!'}, {'id': '1183119389211549696', 'date': 'Sat Oct 12 20:36:58 +0000 2019', 'text': '@Macwars Fair point. Will hold on EU price change until Tesla gets clarity from regulators about Smart Summon feature release date.'}, {'id': '1183118245458432001', 'date': 'Sat Oct 12 20:32:25 +0000 2019', 'text': 'French fries 🍟 are the devil 😈 https://t.co/AR3h57RPIA'}, {'id': '1183114722989621248', 'date': 'Sat Oct 12 20:18:25 +0000 2019', 'text': '@tesla_truth @BarkMSmeagol @vincent13031925 @jchybow @JohnnaCrider1 @28delayslater @flcnhvy @AfMusk .… https://t.co/vplI7NQDb6'}, {'id': '1183106801769697280', 'date': 'Sat Oct 12 19:46:57 +0000 2019', 'text': '@tesla_truth @BarkMSmeagol @vincent13031925 @jchybow @JohnnaCrider1 @28delayslater @flcnhvy @AfMusk Super messed up situation!'}, {'id': '1183082764515414016', 'date': 'Sat Oct 12 18:11:26 +0000 2019', 'text': '@cleantechnica Several finesse improvements coming to Smart Summon in coming weeks. Will be smooth as silk.'}, {'id': '1183081171644628992', 'date': 'Sat Oct 12 18:05:06 +0000 2019', 'text': '@wk057 @Tesla Should be much better at this point'}, {'id': '1183033425529147392', 'date': 'Sat Oct 12 14:55:23 +0000 2019', 'text': 'Nevada has an additional $3000 rebate for battery storage with solar https://t.co/bRibVqomzy'}, {'id': '1182828744748044288', 'date': 'Sat Oct 12 01:22:03 +0000 2019', 'text': 'Price for fully installed solar plus battery has been reduced ~10% to help those affected by blackouts'}, {'id': '1182828388852977665', 'date': 'Sat Oct 12 01:20:38 +0000 2019', 'text': '@brockm Yes, but probably a year or two away. Lot of fish to fry …'}, {'id': '1182828056416641025', 'date': 'Sat Oct 12 01:19:19 +0000 2019', 'text': '@bruce_mittleman Tesla cannot continue to lose money. To achieve our goal of environmental sustainability, Tesla mu… https://t.co/ArWGP4U79u'}, {'id': '1182827574361124864', 'date': 'Sat Oct 12 01:17:24 +0000 2019', 'text': 'Allows homeowner potential to go completely off grid'}, {'id': '1182827425551380482', 'date': 'Sat Oct 12 01:16:48 +0000 2019', 'text': 'V important: pure solar subscription is guaranteed to be a net money-maker for the homeowner or Tesla will take the… https://t.co/m3Z9eRHGzV'}, {'id': '1182826581070245888', 'date': 'Sat Oct 12 01:13:27 +0000 2019', 'text': '@cutza7 When the car is FSD without supervision, ie robotaxi, you’ll be able to earn far more than monthly lease/lo… https://t.co/0wyhUAyfnu'}, {'id': '1182825609686241280', 'date': 'Sat Oct 12 01:09:35 +0000 2019', 'text': '@tesla_addicted @sanjeev_r11 @vincent13031925 Putting panels on east or west facing roofs works well too. Energy lo… https://t.co/wG45nxMkNw'}, {'id': '1182824968200937472', 'date': 'Sat Oct 12 01:07:02 +0000 2019', 'text': '@wilsonlam 😉'}, {'id': '1182824823275155456', 'date': 'Sat Oct 12 01:06:28 +0000 2019', 'text': '@annerajb @Thebault_Arthur Working with engineering team to figure out best way to do upgrade without crushing serv… https://t.co/vENrP11kKA'}, {'id': '1182824078756872192', 'date': 'Sat Oct 12 01:03:30 +0000 2019', 'text': '@Thebault_Arthur Still working with RDW, the car regulatory authority in Netherlands. Unclear why there’s a delay.… https://t.co/9IwK1HoUs5'}, {'id': '1182823556830253056', 'date': 'Sat Oct 12 01:01:26 +0000 2019', 'text': 'Now that Tesla V10.0 with Smart Summon is out, Full Self-Driving price will increase by $1000 on Nov 1'}, {'id': '1182812717083611138', 'date': 'Sat Oct 12 00:18:22 +0000 2019', 'text': 'Get Tesla Solar plus Powerwall battery for 24/7 clean power &amp; no more blackouts! https://t.co/mDoPO17YB9'}, {'id': '1182808205425922049', 'date': 'Sat Oct 12 00:00:26 +0000 2019', 'text': '@mandeepdalip @Tesla Will be throughout Canada'}, {'id': '1182711457156190208', 'date': 'Fri Oct 11 17:35:59 +0000 2019', 'text': '@vincent13031925 It’s something special'}, {'id': '1182327145793634304', 'date': 'Thu Oct 10 16:08:52 +0000 2019', 'text': '@Gfilche @Tesla Fundamental metric of good of Tesla is how many years sooner it brings the advent of a sustainable energy future'}, {'id': '1182192515778170881', 'date': 'Thu Oct 10 07:13:54 +0000 2019', 'text': '@RationalEtienne @tesla_truth @AfMusk @28delayslater @EvaFoxU @JohnnaCrider1 @vincent13031925 @mayemusk… https://t.co/Tk7pCpZz6X'}, {'id': '1182189869344247809', 'date': 'Thu Oct 10 07:03:23 +0000 2019', 'text': '@sara_boutall @In2867Muk @parisreview I ♥️ Asterix &amp; Obelix!'}, {'id': '1182189464736526337', 'date': 'Thu Oct 10 07:01:47 +0000 2019', 'text': '@tesla_truth Exactly'}, {'id': '1182188397965656064', 'date': 'Thu Oct 10 06:57:32 +0000 2019', 'text': '@Milostoessel @Tesla @TeslaSchweiz Ok'}, {'id': '1182089703039700993', 'date': 'Thu Oct 10 00:25:22 +0000 2019', 'text': 'Also adding Tesla Solar to our Supercharger stations as fast as possible. Goal is 24/7 clean power with no blackouts.'}, {'id': '1182089226826813440', 'date': 'Thu Oct 10 00:23:28 +0000 2019', 'text': 'All Tesla Supercharger stations in regions affected by California power outages will have Tesla Powerpacks within n… https://t.co/WK81oHrGqj'}, {'id': '1182061315390492673', 'date': 'Wed Oct 09 22:32:33 +0000 2019', 'text': 'Sooo annoying!! https://t.co/QKtCC0YgDG'}, {'id': '1182059866052952066', 'date': 'Wed Oct 09 22:26:48 +0000 2019', 'text': 'https://t.co/BkKeiIzNPM'}, {'id': '1182005812975128576', 'date': 'Wed Oct 09 18:52:01 +0000 2019', 'text': '@Teslarati We’re changing Powerwall Storm Watch to Disaster Watch. Covers more bases.'}, {'id': '1181991353212817408', 'date': 'Wed Oct 09 17:54:33 +0000 2019', 'text': '@Kristennetten @annerajb @tesla_truth 🚀🚘 🧠🕳'}, {'id': '1181990505363599360', 'date': 'Wed Oct 09 17:51:11 +0000 2019', 'text': '@annerajb @tesla_truth Yes'}, {'id': '1181990398379483137', 'date': 'Wed Oct 09 17:50:45 +0000 2019', 'text': '@tesla_truth No change'}, {'id': '1181990010657984513', 'date': 'Wed Oct 09 17:49:13 +0000 2019', 'text': '@JimBridenstine @NASAMoon Important for Moonbase Alpha!'}, {'id': '1181989324797009922', 'date': 'Wed Oct 09 17:46:29 +0000 2019', 'text': '@GeorgKonjovic Working on it'}, {'id': '1181989103606255616', 'date': 'Wed Oct 09 17:45:37 +0000 2019', 'text': '@_GaryTheBot Even Gary likes it!'}, {'id': '1181988619000500224', 'date': 'Wed Oct 09 17:43:41 +0000 2019', 'text': 'It’s really quite fun!'}, {'id': '1181988380990558208', 'date': 'Wed Oct 09 17:42:44 +0000 2019', 'text': 'But we call it “caraoke”, because it’s in a 🚘'}, {'id': '1181988180326633472', 'date': 'Wed Oct 09 17:41:57 +0000 2019', 'text': 'Tesla software V10.0 comes with karaoke 🎤'}, {'id': '1181987789589508096', 'date': 'Wed Oct 09 17:40:23 +0000 2019', 'text': '@nextspaceflight Yes'}, {'id': '1181987612992524288', 'date': 'Wed Oct 09 17:39:41 +0000 2019', 'text': 'A Shortfall of Gravitas'}, {'id': '1181980074037301248', 'date': 'Wed Oct 09 17:09:44 +0000 2019', 'text': '@Thebault_Arthur @_GaryTheBot Next update'}, {'id': '1181979746550202368', 'date': 'Wed Oct 09 17:08:26 +0000 2019', 'text': '@_GaryTheBot siq burn, Gary, siq burn'}, {'id': '1181979597467873280', 'date': 'Wed Oct 09 17:07:50 +0000 2019', 'text': '🦌'}, {'id': '1181979201915604993', 'date': 'Wed Oct 09 17:06:16 +0000 2019', 'text': 'Why is there no emoji for dignity!!'}, {'id': '1181841203286790144', 'date': 'Wed Oct 09 07:57:55 +0000 2019', 'text': '@teslaownersSV Yes'}, {'id': '1181837821855711232', 'date': 'Wed Oct 09 07:44:28 +0000 2019', 'text': '@sara_boutall Door hinge'}, {'id': '1181837097444896768', 'date': 'Wed Oct 09 07:41:36 +0000 2019', 'text': 'the color orange is named after the fruit'}, {'id': '1181781720841908224', 'date': 'Wed Oct 09 04:01:33 +0000 2019', 'text': '@alex_gayer @teslaownersSV Will remove'}, {'id': '1181781181316026369', 'date': 'Wed Oct 09 03:59:24 +0000 2019', 'text': '@teslaownersSV Thanks for mentioning. Should be enabled on all loaner cars.'}, {'id': '1181781021785653248', 'date': 'Wed Oct 09 03:58:46 +0000 2019', 'text': '@Aero_JohnG @Erdayastronaut @SciGuySpace Yeah'}, {'id': '1181738919076851712', 'date': 'Wed Oct 09 01:11:28 +0000 2019', 'text': '@annerajb @Teslarati Not easily, as requires wire harness changes'}, {'id': '1181738665963208704', 'date': 'Wed Oct 09 01:10:28 +0000 2019', 'text': '@Teslarati 🦶 💨'}, {'id': '1181658171598917632', 'date': 'Tue Oct 08 19:50:36 +0000 2019', 'text': '@justpaulinelol I’m in the credits'}, {'id': '1181656686236508160', 'date': 'Tue Oct 08 19:44:42 +0000 2019', 'text': 'Worth reading “Human Compatible” by Stuart Russell (he’s great!) about future AI risks &amp; solutions https://t.co/ZCdvZrrcVf'}, {'id': '1181585837869297664', 'date': 'Tue Oct 08 15:03:11 +0000 2019', 'text': '@flcnhvy @SciGuySpace All hardware is at the Cape. Need to do static fire and reconfigure for flight. Launch probably late Nov / early Dec.'}, {'id': '1181584415362707456', 'date': 'Tue Oct 08 14:57:32 +0000 2019', 'text': '@SciGuySpace We had to reallocate some resources to speed this up &amp; received great support from Airborne, our parac… https://t.co/nuM43KoKDC'}, {'id': '1181579173388673025', 'date': 'Tue Oct 08 14:36:42 +0000 2019', 'text': '@SciGuySpace For what it’s worth, the SpaceX schedule, which I’ve just reviewed in depth, shows Falcon &amp; Dragon at… https://t.co/AloXFnfr3W'}, {'id': '1181497517759811584', 'date': 'Tue Oct 08 09:12:14 +0000 2019', 'text': '@alex_gayer 🤣'}, {'id': '1181345349148917760', 'date': 'Mon Oct 07 23:07:34 +0000 2019', 'text': '@flcnhvy @BnOrdhaug @Gizmodo Culture Class is really something'}, {'id': '1181344603716255745', 'date': 'Mon Oct 07 23:04:36 +0000 2019', 'text': '@BnOrdhaug @Gizmodo I hope so'}, {'id': '1181343438630838273', 'date': 'Mon Oct 07 22:59:58 +0000 2019', 'text': '@Gizmodo We’re doomed!'}, {'id': '1181304116498165760', 'date': 'Mon Oct 07 20:23:43 +0000 2019', 'text': '@pewdiepie Hāhā'}, {'id': '1181295442132230144', 'date': 'Mon Oct 07 19:49:15 +0000 2019', 'text': '@browserdotsys Haha true'}, {'id': '1181114635962814464', 'date': 'Mon Oct 07 07:50:47 +0000 2019', 'text': '@WellsAdams Done'}, {'id': '1181087900051492864', 'date': 'Mon Oct 07 06:04:33 +0000 2019', 'text': 'Trouble! https://t.co/qo2hR7Vcsp'}, {'id': '1181083687384838145', 'date': 'Mon Oct 07 05:47:49 +0000 2019', 'text': 'And that’s just the tip of the iceberg https://t.co/cgRKiDsdbK'}, {'id': '1181070766101549056', 'date': 'Mon Oct 07 04:56:28 +0000 2019', 'text': '@jesterpb @yukaichou @Tesla Agreed'}, {'id': '1180957431368568832', 'date': 'Sun Oct 06 21:26:07 +0000 2019', 'text': '@TameemJi @yukaichou @Tesla Good ones'}, {'id': '1180928986903265280', 'date': 'Sun Oct 06 19:33:05 +0000 2019', 'text': '@SpodieDodie Agreed, fair point'}, {'id': '1180927887970422785', 'date': 'Sun Oct 06 19:28:43 +0000 2019', 'text': '@yukaichou @Tesla Any feature requests?'}, {'id': '1180927745301176320', 'date': 'Sun Oct 06 19:28:09 +0000 2019', 'text': 'Given how quickly the world is shifting to electric vehicles, a gas/diesel vehicle bought today will probably have… https://t.co/aPRBK7hr1y'}, {'id': '1180878496224038914', 'date': 'Sun Oct 06 16:12:27 +0000 2019', 'text': '💨 &amp; 🐐 sounds too (also, of course)'}, {'id': '1180877799734665216', 'date': 'Sun Oct 06 16:09:41 +0000 2019', 'text': '@JudaMeg Will consider'}, {'id': '1180877420821237760', 'date': 'Sun Oct 06 16:08:11 +0000 2019', 'text': '@teslaownersSV Sure'}, {'id': '1180877114226008064', 'date': 'Sun Oct 06 16:06:58 +0000 2019', 'text': 'Customized horn &amp; movement sounds (coconuts being one, of course) coming to Teslas soon'}, {'id': '1180569585558228992', 'date': 'Sat Oct 05 19:44:57 +0000 2019', 'text': '@Erdayastronaut @bluemoondance74 @EvaFoxU Haha'}, {'id': '1180553336082157568', 'date': 'Sat Oct 05 18:40:23 +0000 2019', 'text': '@bluemoondance74 @EvaFoxU We will understand the next question'}, {'id': '1180553063301468160', 'date': 'Sat Oct 05 18:39:18 +0000 2019', 'text': '@justpaulinelol @EvaFoxU True'}, {'id': '1180552829498322945', 'date': 'Sat Oct 05 18:38:22 +0000 2019', 'text': '@EvaFoxU To understand the nature of consciousness'}, {'id': '1180320978435543042', 'date': 'Sat Oct 05 03:17:05 +0000 2019', 'text': '@Mikeado @Lancelot_Fox @Tommymcglynn @trevorandersen @fermatslibrary It’s true 🤣🤣'}, {'id': '1180264594364870660', 'date': 'Fri Oct 04 23:33:02 +0000 2019', 'text': '@vincent13031925 @Sofiaan @SCE Exactly'}, {'id': '1180165032690233345', 'date': 'Fri Oct 04 16:57:24 +0000 2019', 'text': '@rklau Great list of hotel hacks in this thread!'}, {'id': '1179996203574013953', 'date': 'Fri Oct 04 05:46:32 +0000 2019', 'text': '@tesla_truth 🤣🤣'}, {'id': '1179957355628253185', 'date': 'Fri Oct 04 03:12:10 +0000 2019', 'text': 'Excited about launching @NASA asteroid defense mission! #Armageddon69 https://t.co/6Hz4CKOLwU'}, {'id': '1179941711306358787', 'date': 'Fri Oct 04 02:10:00 +0000 2019', 'text': '@nichegamer Let’s go boyz!'}, {'id': '1179925839669891072', 'date': 'Fri Oct 04 01:06:56 +0000 2019', 'text': '@TeslaOwnersSK @Tesla Sorry it took so long!'}, {'id': '1179897546161848320', 'date': 'Thu Oct 03 23:14:31 +0000 2019', 'text': '@TarikCelebii Wow, cool! Summon will get steadily smoother until it’s like an expert chauffeur who knows you well.'}, {'id': '1179799146464628736', 'date': 'Thu Oct 03 16:43:30 +0000 2019', 'text': '@flcnhvy @HarryStoltz1 Welded steel'}, {'id': '1179624066375774209', 'date': 'Thu Oct 03 05:07:48 +0000 2019', 'text': '@HarryStoltz1 Probably Starlink 🛰 &amp; some fun things'}, {'id': '1179576466721259520', 'date': 'Thu Oct 03 01:58:39 +0000 2019', 'text': 'Rosetta by Vangelis is incredible https://t.co/MKqbsdVVsN'}, {'id': '1179524946478817280', 'date': 'Wed Oct 02 22:33:56 +0000 2019', 'text': '@teslaownersSV @arctechinc Not sure, will ask regulators'}, {'id': '1179524799804002304', 'date': 'Wed Oct 02 22:33:21 +0000 2019', 'text': '@AdamTForbes @annerajb @flcnhvy Enhanced should get it too'}, {'id': '1179524256792641542', 'date': 'Wed Oct 02 22:31:11 +0000 2019', 'text': '@arctechinc Aiming for this weekend!'}, {'id': '1179523171780681728', 'date': 'Wed Oct 02 22:26:53 +0000 2019', 'text': '@annerajb @flcnhvy Hopefully, a month or two, although it may be a little silly at first'}, {'id': '1179522786240319488', 'date': 'Wed Oct 02 22:25:21 +0000 2019', 'text': '@flcnhvy Not yet'}, {'id': '1179522738278395905', 'date': 'Wed Oct 02 22:25:09 +0000 2019', 'text': '@MemesOfMars First point release update expected to go out this weekend'}, {'id': '1179520622004588544', 'date': 'Wed Oct 02 22:16:45 +0000 2019', 'text': 'Over 550,000 Tesla Smart Summon uses in first few days!'}, {'id': '1179519667808768000', 'date': 'Wed Oct 02 22:12:57 +0000 2019', 'text': '@tesla_truth Thanks, Tesla team is the strongest it’s ever been &amp; doing an amazing job! Honored to work beside them.'}, {'id': '1179159128708538370', 'date': 'Tue Oct 01 22:20:18 +0000 2019', 'text': '@justpaulinelol @KeithMansfield @Erdayastronaut If 20km works, then orbit'}, {'id': '1179158176618315776', 'date': 'Tue Oct 01 22:16:31 +0000 2019', 'text': '@KeithMansfield @Erdayastronaut Great summary of the key points!'}, {'id': '1179154111616274433', 'date': 'Tue Oct 01 22:00:22 +0000 2019', 'text': '@OranMaliphant @Erdayastronaut @AngelNDevil2 @MarkChica @FutureJurvetson @bluemoondance74 @SpaceX That’s about righ… https://t.co/UuXAf1fpBh'}, {'id': '1179107730876796928', 'date': 'Tue Oct 01 18:56:04 +0000 2019', 'text': '@AngelNDevil2 @MarkChica @FutureJurvetson @bluemoondance74 @SpaceX It’s all the “secondary” structure that concerns… https://t.co/vQeVrk8J4V'}, {'id': '1179107539352313856', 'date': 'Tue Oct 01 18:55:18 +0000 2019', 'text': '@AngelNDevil2 @MarkChica @FutureJurvetson @bluemoondance74 @SpaceX Raptor cost is tracking to well under $1M for V1… https://t.co/ic6sKxZLFG'}, {'id': '1179090138644668416', 'date': 'Tue Oct 01 17:46:10 +0000 2019', 'text': '@JohnnaCrider1 @RationalEtienne @LaurenRow5 @RenataKonkoly @Kristennetten @EvaFoxU @MemesOfMars @PositivePyrami1 Stop sending me this 💩 🤣🤣'}, {'id': '1179079219801812993', 'date': 'Tue Oct 01 17:02:46 +0000 2019', 'text': '@RationalEtienne @LaurenRow5 @EvaFoxU @Kristennetten @SteveHamel16 @TheElonMasked @MemesOfMars @MichellBasler… https://t.co/O4xgr8y6kc'}, {'id': '1179078946941353984', 'date': 'Tue Oct 01 17:01:41 +0000 2019', 'text': '@Kristennetten @SS4Adrian I have that exact thought every time I get the flu'}, {'id': '1179074198540435456', 'date': 'Tue Oct 01 16:42:49 +0000 2019', 'text': '@SS4Adrian Clearly a sign of the apocalypse!'}, {'id': '1178956709731024896', 'date': 'Tue Oct 01 08:55:58 +0000 2019', 'text': '@engineers_feed Lot of ways to melt &amp; join steel. Mostly just needs to be welded consistently &amp; with precise parts.'}, {'id': '1178956134968807424', 'date': 'Tue Oct 01 08:53:41 +0000 2019', 'text': '@engineers_feed Thankfully not. FSW is very difficult to get right &amp; not needed with steel.'}, {'id': '1178938112195514368', 'date': 'Tue Oct 01 07:42:04 +0000 2019', 'text': 'Production version will be a lot more polished than this prototype, but still fun to see'}, {'id': '1178934984167448577', 'date': 'Tue Oct 01 07:29:38 +0000 2019', 'text': '@ColinPearceUK Bigger flaps/fins at rear also moves center of pressure back'}, {'id': '1178932681028980736', 'date': 'Tue Oct 01 07:20:29 +0000 2019', 'text': '@TrevorMahlmann Haha yes'}, {'id': '1178932062733996032', 'date': 'Tue Oct 01 07:18:01 +0000 2019', 'text': '@HarryStoltz1 In solving for a good Mars climate, we will learn a great deal about how to do so on Earth. It is the inverse problem.'}, {'id': '1178931253229187072', 'date': 'Tue Oct 01 07:14:48 +0000 2019', 'text': 'Inside Starship cargo bay. Header tanks mounted in tip of nosecone to offset engine weight at rear. https://t.co/EJSwqMCooA'}, {'id': '1178905464202883072', 'date': 'Tue Oct 01 05:32:20 +0000 2019', 'text': '@EvaFoxU @DisruptResearch @Tesla @karpathy Cool video!'}, {'id': '1178818555061493761', 'date': 'Mon Sep 30 23:46:59 +0000 2019', 'text': '@DisruptResearch @Tesla @karpathy Probably our most viral feature ever. Most of the Autopilot team has been working… https://t.co/Vs7de166X3'}, {'id': '1178807103273631744', 'date': 'Mon Sep 30 23:01:29 +0000 2019', 'text': '@S_Padival @Tesla @business @liamdenning @josheidelson @danahull @ZekeFaux Good question'}, {'id': '1178107012141535232', 'date': 'Sun Sep 29 00:39:34 +0000 2019', 'text': '@thejackbeyer 😀'}, {'id': '1178014342031298561', 'date': 'Sat Sep 28 18:31:20 +0000 2019', 'text': 'Rage, rage against the dying of the light https://t.co/aGRw4VowAQ'}, {'id': '1178013709546991619', 'date': 'Sat Sep 28 18:28:49 +0000 2019', 'text': '@tesla_truth @NRF_designs We’re going to use the pedestrian pink noise speaker to talk to people &amp; create customize… https://t.co/cWLXua7AnI'}, {'id': '1178012340383621120', 'date': 'Sat Sep 28 18:23:23 +0000 2019', 'text': '@tesla_truth Special light pattern (but not hazards, as they’re too shrill) seems right'}, {'id': '1178011464852004864', 'date': 'Sat Sep 28 18:19:54 +0000 2019', 'text': '@tesla_truth Makes sense'}, {'id': '1177961429703507968', 'date': 'Sat Sep 28 15:01:04 +0000 2019', 'text': '@tesla_truth @Tesla Precisely'}, {'id': '1177665592242794497', 'date': 'Fri Sep 27 19:25:31 +0000 2019', 'text': 'To make life as we know it multiplanetary'}, {'id': '1177665504699224064', 'date': 'Fri Sep 27 19:25:10 +0000 2019', 'text': 'Starship will allow us to inhabit other worlds'}, {'id': '1177662806117584896', 'date': 'Fri Sep 27 19:14:27 +0000 2019', 'text': 'Starship halves being joined https://t.co/7pdxfh8e81'}, {'id': '1177657997134221312', 'date': 'Fri Sep 27 18:55:21 +0000 2019', 'text': 'Summon is improving rapidly \\nhttps://t.co/khgXDRnD2Z'}, {'id': '1177631358987849729', 'date': 'Fri Sep 27 17:09:29 +0000 2019', 'text': '@flcnhvy @Erdayastronaut @Cor_SPACE Just SX500 so far, but we use many superalloys developed by others, eg Inco 718… https://t.co/2ZRmiA1peV'}, {'id': '1177630155801419778', 'date': 'Fri Sep 27 17:04:43 +0000 2019', 'text': '@Erdayastronaut @Cor_SPACE There’s so much power going through this engine that it’s close to the limit of the know… https://t.co/7LEcDvIRi0'}, {'id': '1177628992762855426', 'date': 'Fri Sep 27 17:00:05 +0000 2019', 'text': '@Carter__99 @Erdayastronaut @askingbubble385 @Cor_SPACE Yes'}, {'id': '1177628790609997825', 'date': 'Fri Sep 27 16:59:17 +0000 2019', 'text': '@Erdayastronaut @Cor_SPACE Well, hopefully closer to 300 bar over time. However, that the chamber/nozzle jacket has… https://t.co/VWegWXxxsL'}, {'id': '1177622466727821312', 'date': 'Fri Sep 27 16:34:09 +0000 2019', 'text': '@flcnhvy @Erdayastronaut @Cor_SPACE No, we’ve been focusing on production (now on SN12). Only need 250 bar or even… https://t.co/MCIxOMAXeJ'}, {'id': '1177621843219365888', 'date': 'Fri Sep 27 16:31:41 +0000 2019', 'text': '@NCBirbhan @Erdayastronaut @Cor_SPACE Probably around 6 or 7pm'}, {'id': '1177621104686329856', 'date': 'Fri Sep 27 16:28:45 +0000 2019', 'text': '@Erdayastronaut @Cor_SPACE What blows my mind is that peak pressure in regen chamber &amp; nozzle is *far* above combus… https://t.co/QZf6knzhq9'}, {'id': '1177618467136008194', 'date': 'Fri Sep 27 16:18:16 +0000 2019', 'text': '@GaryTheBot_ Figure of speech'}, {'id': '1177618401159602176', 'date': 'Fri Sep 27 16:18:00 +0000 2019', 'text': 'Meanwhile, back in reality https://t.co/NrHHB9G81L'}, {'id': '1177618032719319040', 'date': 'Fri Sep 27 16:16:32 +0000 2019', 'text': '@DLoesch Media report was false'}, {'id': '1177387141116002304', 'date': 'Fri Sep 27 00:59:03 +0000 2019', 'text': '@Erdayastronaut @Cor_SPACE Raptor uses milled copper channels with an inconel jacket all the way down'}, {'id': '1177314408604680192', 'date': 'Thu Sep 26 20:10:03 +0000 2019', 'text': 'Three Raptors on a Starship https://t.co/UrRiD62EVk'}, {'id': '1177259561117372417', 'date': 'Thu Sep 26 16:32:06 +0000 2019', 'text': '@EvaFoxU @BrendanCogbill7 Always'}, {'id': '1177241843093753862', 'date': 'Thu Sep 26 15:21:42 +0000 2019', 'text': '@SpacePadreIsle @SpaceX Wow, it’s been 5 years since we started at Boca!'}, {'id': '1177237783489863681', 'date': 'Thu Sep 26 15:05:34 +0000 2019', 'text': '@BrendanCogbill7 About a week. Will include slight improvements, based on initial user feedback.'}, {'id': '1177236839406559232', 'date': 'Thu Sep 26 15:01:49 +0000 2019', 'text': '@justpaulinelol We look for rare corner case issues with a limited release US build, then expand internationally as… https://t.co/Lqw9n2ZHvR'}, {'id': '1177235963405193216', 'date': 'Thu Sep 26 14:58:20 +0000 2019', 'text': '@GaryTheBot_ Gary, you rock!'}, {'id': '1177235772857970688', 'date': 'Thu Sep 26 14:57:34 +0000 2019', 'text': 'Tesla V10.0 just started rolling out to all US Tesla owners with FSD option &amp; “advanced download” selected in vehicle software settings'}, {'id': '1177101142980825093', 'date': 'Thu Sep 26 06:02:36 +0000 2019', 'text': '@moyo5150 More like https://t.co/f8BUlz0Xdo'}, {'id': '1177100271937212416', 'date': 'Thu Sep 26 05:59:08 +0000 2019', 'text': 'Anonymous bot swarms deserve a closer examination. If they’re evolving rapidly, something’s up.'}, {'id': '1177099375287271424', 'date': 'Thu Sep 26 05:55:35 +0000 2019', 'text': 'If advanced AI (beyond basic bots) hasn’t been applied to manipulate social media, it won’t be long before it is'}, {'id': '1177096273628778496', 'date': 'Thu Sep 26 05:43:15 +0000 2019', 'text': '@Wally_Wests Exactly'}, {'id': '1177090550916239360', 'date': 'Thu Sep 26 05:20:31 +0000 2019', 'text': '@Kristennetten @annerajb @Jennerator211 @Erdayastronaut That would be a nice touch'}, {'id': '1177085193007456256', 'date': 'Thu Sep 26 04:59:13 +0000 2019', 'text': '@flcnhvy @28delayslater @DJSnM This is quite a complex beast, but hopefully within a month or so'}, {'id': '1177084577128448000', 'date': 'Thu Sep 26 04:56:47 +0000 2019', 'text': '@28delayslater @DJSnM Haha awesome'}, {'id': '1177074975020220416', 'date': 'Thu Sep 26 04:18:37 +0000 2019', 'text': '@MarkChica @Kristennetten @TeslaGong @teslaownersSV @Teslatunity @Tesla We could probably do that'}, {'id': '1177070801121468418', 'date': 'Thu Sep 26 04:02:02 +0000 2019', 'text': '@Erdayastronaut 50m'}, {'id': '1177069611142901762', 'date': 'Thu Sep 26 03:57:18 +0000 2019', 'text': '@TeslaGong @teslaownersSV @Teslatunity @Tesla Not sure we could go quite that tight, but we can for sure allow much… https://t.co/wolYBBZMS7'}, {'id': '1177067257106747392', 'date': 'Thu Sep 26 03:47:57 +0000 2019', 'text': '@annerajb @Jennerator211 @Erdayastronaut With rare exceptions, composites would make Starship heavier. They don’t s… https://t.co/OeeigvDiI8'}, {'id': '1177066483375058944', 'date': 'Thu Sep 26 03:44:53 +0000 2019', 'text': '@Jennerator211 @Erdayastronaut Mk1 ship is around 200 tons dry &amp; 1400 tons wet, but aiming for 120 by Mk4 or Mk5. T… https://t.co/yTUpGx0Ppa'}, {'id': '1177064952429010945', 'date': 'Thu Sep 26 03:38:48 +0000 2019', 'text': '@teslaownersSV @Teslatunity @Tesla Absolutely'}, {'id': '1177062354577756160', 'date': 'Thu Sep 26 03:28:28 +0000 2019', 'text': '@Teslatunity @Tesla You’re welcome! Feature requests always appreciated.'}, {'id': '1177051800769138690', 'date': 'Thu Sep 26 02:46:32 +0000 2019', 'text': '@Erdayastronaut @kimitalvitie Six. Two windward, one under each fin &amp; two leeward. Provides redundancy for landing on unimproved surfaces.'}, {'id': '1177050841041125376', 'date': 'Thu Sep 26 02:42:43 +0000 2019', 'text': 'On the transporter https://t.co/CGNj1MlKAU'}, {'id': '1177049277375250434', 'date': 'Thu Sep 26 02:36:30 +0000 2019', 'text': 'Lifting lower section of Starship https://t.co/bfW17i469a'}, {'id': '1176936806928879616', 'date': 'Wed Sep 25 19:09:35 +0000 2019', 'text': '@justpaulinelol @EvaFoxU @katlinegrey https://t.co/IzVngWWY7G'}, {'id': '1176930839411642368', 'date': 'Wed Sep 25 18:45:53 +0000 2019', 'text': '@EvaFoxU @katlinegrey правда'}, {'id': '1176928113285971968', 'date': 'Wed Sep 25 18:35:03 +0000 2019', 'text': '@katlinegrey язык хорошо подвешен'}, {'id': '1176737065624453125', 'date': 'Wed Sep 25 05:55:53 +0000 2019', 'text': '@levie Exactly'}, {'id': '1176596320775094273', 'date': 'Tue Sep 24 20:36:37 +0000 2019', 'text': '@tannerfox Impressive work by Chad &amp; Steve!'}, {'id': '1176589331567452161', 'date': 'Tue Sep 24 20:08:51 +0000 2019', 'text': '@SamNazarius @HarryStoltz1 @justpaulinelol @Teslarati Almost entirely C++, but we did have an (advanced for the tim… https://t.co/0SbJqgtWsG'}, {'id': '1176588054670323713', 'date': 'Tue Sep 24 20:03:46 +0000 2019', 'text': '@HarryStoltz1 @justpaulinelol @Teslarati Turbo Pascal'}, {'id': '1176587698401947650', 'date': 'Tue Sep 24 20:02:21 +0000 2019', 'text': '@justpaulinelol @Teslarati Mostly C/C++, Python &amp; SQL'}, {'id': '1176586684751908872', 'date': 'Tue Sep 24 19:58:20 +0000 2019', 'text': '@flcnhvy @Erdayastronaut @Tesla It would be pretty embarrassing to use a non-Tesla battery!'}, {'id': '1176585904091275264', 'date': 'Tue Sep 24 19:55:14 +0000 2019', 'text': '@Teslarati This includes original engineering of new factory processes &amp; cars. Great engineers will only join if or… https://t.co/zCAndlhS72'}]"
   ]
  },
  {
   "cell_type": "code",
   "execution_count": 175,
   "metadata": {},
   "outputs": [],
   "source": [
    "d= pd.DataFrame(d)"
   ]
  },
  {
   "cell_type": "code",
   "execution_count": 176,
   "metadata": {},
   "outputs": [
    {
     "data": {
      "text/html": [
       "<div>\n",
       "<style scoped>\n",
       "    .dataframe tbody tr th:only-of-type {\n",
       "        vertical-align: middle;\n",
       "    }\n",
       "\n",
       "    .dataframe tbody tr th {\n",
       "        vertical-align: top;\n",
       "    }\n",
       "\n",
       "    .dataframe thead th {\n",
       "        text-align: right;\n",
       "    }\n",
       "</style>\n",
       "<table border=\"1\" class=\"dataframe\">\n",
       "  <thead>\n",
       "    <tr style=\"text-align: right;\">\n",
       "      <th></th>\n",
       "      <th>id</th>\n",
       "      <th>date</th>\n",
       "      <th>text</th>\n",
       "    </tr>\n",
       "  </thead>\n",
       "  <tbody>\n",
       "    <tr>\n",
       "      <td>0</td>\n",
       "      <td>1183223595008266241</td>\n",
       "      <td>Sun Oct 13 03:31:02 +0000 2019</td>\n",
       "      <td>@jay11w Recommended for sure. Both movies are ...</td>\n",
       "    </tr>\n",
       "    <tr>\n",
       "      <td>1</td>\n",
       "      <td>1183222226130046980</td>\n",
       "      <td>Sun Oct 13 03:25:36 +0000 2019</td>\n",
       "      <td>First will rewatch Godfather Part II, then Spa...</td>\n",
       "    </tr>\n",
       "    <tr>\n",
       "      <td>2</td>\n",
       "      <td>1183221390016536581</td>\n",
       "      <td>Sun Oct 13 03:22:17 +0000 2019</td>\n",
       "      <td>Underappreciated 🎥, will watch!</td>\n",
       "    </tr>\n",
       "    <tr>\n",
       "      <td>3</td>\n",
       "      <td>1183220879951462400</td>\n",
       "      <td>Sun Oct 13 03:20:15 +0000 2019</td>\n",
       "      <td>Is Space Jam good?</td>\n",
       "    </tr>\n",
       "    <tr>\n",
       "      <td>4</td>\n",
       "      <td>1183201528036786178</td>\n",
       "      <td>Sun Oct 13 02:03:21 +0000 2019</td>\n",
       "      <td>@Nobody_Really7 @anonyx10 @mayemusk So it goes</td>\n",
       "    </tr>\n",
       "  </tbody>\n",
       "</table>\n",
       "</div>"
      ],
      "text/plain": [
       "                    id                            date  \\\n",
       "0  1183223595008266241  Sun Oct 13 03:31:02 +0000 2019   \n",
       "1  1183222226130046980  Sun Oct 13 03:25:36 +0000 2019   \n",
       "2  1183221390016536581  Sun Oct 13 03:22:17 +0000 2019   \n",
       "3  1183220879951462400  Sun Oct 13 03:20:15 +0000 2019   \n",
       "4  1183201528036786178  Sun Oct 13 02:03:21 +0000 2019   \n",
       "\n",
       "                                                text  \n",
       "0  @jay11w Recommended for sure. Both movies are ...  \n",
       "1  First will rewatch Godfather Part II, then Spa...  \n",
       "2                    Underappreciated 🎥, will watch!  \n",
       "3                                 Is Space Jam good?  \n",
       "4     @Nobody_Really7 @anonyx10 @mayemusk So it goes  "
      ]
     },
     "execution_count": 176,
     "metadata": {},
     "output_type": "execute_result"
    }
   ],
   "source": [
    "d.head()"
   ]
  },
  {
   "cell_type": "code",
   "execution_count": 204,
   "metadata": {},
   "outputs": [
    {
     "ename": "AttributeError",
     "evalue": "'list' object has no attribute 'date'",
     "output_type": "error",
     "traceback": [
      "\u001b[0;31m---------------------------------------------------------------------------\u001b[0m",
      "\u001b[0;31mAttributeError\u001b[0m                            Traceback (most recent call last)",
      "\u001b[0;32m<ipython-input-204-92287ba0dc52>\u001b[0m in \u001b[0;36m<module>\u001b[0;34m\u001b[0m\n\u001b[1;32m      6\u001b[0m \u001b[0mdate3\u001b[0m \u001b[0;34m=\u001b[0m \u001b[0;34m[\u001b[0m\u001b[0;34m]\u001b[0m\u001b[0;34m\u001b[0m\u001b[0;34m\u001b[0m\u001b[0m\n\u001b[1;32m      7\u001b[0m \u001b[0;32mfor\u001b[0m \u001b[0mi\u001b[0m \u001b[0;32min\u001b[0m \u001b[0mrange\u001b[0m\u001b[0;34m(\u001b[0m\u001b[0mtweet\u001b[0m\u001b[0;34m.\u001b[0m\u001b[0mshape\u001b[0m\u001b[0;34m[\u001b[0m\u001b[0;36m0\u001b[0m\u001b[0;34m]\u001b[0m\u001b[0;34m)\u001b[0m\u001b[0;34m:\u001b[0m\u001b[0;34m\u001b[0m\u001b[0;34m\u001b[0m\u001b[0m\n\u001b[0;32m----> 8\u001b[0;31m     \u001b[0ma\u001b[0m \u001b[0;34m=\u001b[0m \u001b[0mparse\u001b[0m\u001b[0;34m(\u001b[0m\u001b[0md\u001b[0m\u001b[0;34m.\u001b[0m\u001b[0mdate\u001b[0m\u001b[0;34m[\u001b[0m\u001b[0mi\u001b[0m\u001b[0;34m]\u001b[0m\u001b[0;34m)\u001b[0m\u001b[0;34m\u001b[0m\u001b[0;34m\u001b[0m\u001b[0m\n\u001b[0m\u001b[1;32m      9\u001b[0m     \u001b[0mdate2\u001b[0m \u001b[0;34m=\u001b[0m \u001b[0ma\u001b[0m\u001b[0;34m.\u001b[0m\u001b[0mstrftime\u001b[0m\u001b[0;34m(\u001b[0m\u001b[0;34m\"%Y-%m-%d\"\u001b[0m\u001b[0;34m)\u001b[0m\u001b[0;34m\u001b[0m\u001b[0;34m\u001b[0m\u001b[0m\n\u001b[1;32m     10\u001b[0m     \u001b[0mdate3\u001b[0m\u001b[0;34m.\u001b[0m\u001b[0mappend\u001b[0m\u001b[0;34m(\u001b[0m\u001b[0mdate2\u001b[0m\u001b[0;34m)\u001b[0m\u001b[0;34m\u001b[0m\u001b[0;34m\u001b[0m\u001b[0m\n",
      "\u001b[0;31mAttributeError\u001b[0m: 'list' object has no attribute 'date'"
     ]
    }
   ],
   "source": [
    "from dateutil.parser import parse\n",
    "from datetime import datetime\n",
    "\n",
    "d = [{'id': '1183223595008266241', 'date': 'Sun Oct 13 03:31:02 +0000 2019', 'text': '@jay11w Recommended for sure. Both movies are incredible.'}, {'id': '1183222226130046980', 'date': 'Sun Oct 13 03:25:36 +0000 2019', 'text': 'First will rewatch Godfather Part II, then Space Jam'}, {'id': '1183221390016536581', 'date': 'Sun Oct 13 03:22:17 +0000 2019', 'text': 'Underappreciated 🎥, will watch!'}, {'id': '1183220879951462400', 'date': 'Sun Oct 13 03:20:15 +0000 2019', 'text': 'Is Space Jam good?'}, {'id': '1183201528036786178', 'date': 'Sun Oct 13 02:03:21 +0000 2019', 'text': '@Nobody_Really7 @anonyx10 @mayemusk So it goes'}, {'id': '1183198657136324610', 'date': 'Sun Oct 13 01:51:57 +0000 2019', 'text': '@anonyx10 @mayemusk Sure looks that way'}, {'id': '1183152738382667777', 'date': 'Sat Oct 12 22:49:29 +0000 2019', 'text': '@owlmaster08 @Tesla Nice 🤣🤣'}, {'id': '1183150916473516032', 'date': 'Sat Oct 12 22:42:15 +0000 2019', 'text': '@Erdayastronaut Solar'}, {'id': '1183150883162349569', 'date': 'Sat Oct 12 22:42:07 +0000 2019', 'text': '@Erdayastronaut Depends on total system efficiency &amp; how long the propellant plant can run to refill Starship, so 1 to 10MW as a rough guess'}, {'id': '1183123445787185152', 'date': 'Sat Oct 12 20:53:05 +0000 2019', 'text': '@bonnienorman Whoa, that does look good!'}, {'id': '1183119389211549696', 'date': 'Sat Oct 12 20:36:58 +0000 2019', 'text': '@Macwars Fair point. Will hold on EU price change until Tesla gets clarity from regulators about Smart Summon feature release date.'}, {'id': '1183118245458432001', 'date': 'Sat Oct 12 20:32:25 +0000 2019', 'text': 'French fries 🍟 are the devil 😈 https://t.co/AR3h57RPIA'}, {'id': '1183114722989621248', 'date': 'Sat Oct 12 20:18:25 +0000 2019', 'text': '@tesla_truth @BarkMSmeagol @vincent13031925 @jchybow @JohnnaCrider1 @28delayslater @flcnhvy @AfMusk .… https://t.co/vplI7NQDb6'}, {'id': '1183106801769697280', 'date': 'Sat Oct 12 19:46:57 +0000 2019', 'text': '@tesla_truth @BarkMSmeagol @vincent13031925 @jchybow @JohnnaCrider1 @28delayslater @flcnhvy @AfMusk Super messed up situation!'}, {'id': '1183082764515414016', 'date': 'Sat Oct 12 18:11:26 +0000 2019', 'text': '@cleantechnica Several finesse improvements coming to Smart Summon in coming weeks. Will be smooth as silk.'}, {'id': '1183081171644628992', 'date': 'Sat Oct 12 18:05:06 +0000 2019', 'text': '@wk057 @Tesla Should be much better at this point'}, {'id': '1183033425529147392', 'date': 'Sat Oct 12 14:55:23 +0000 2019', 'text': 'Nevada has an additional $3000 rebate for battery storage with solar https://t.co/bRibVqomzy'}, {'id': '1182828744748044288', 'date': 'Sat Oct 12 01:22:03 +0000 2019', 'text': 'Price for fully installed solar plus battery has been reduced ~10% to help those affected by blackouts'}, {'id': '1182828388852977665', 'date': 'Sat Oct 12 01:20:38 +0000 2019', 'text': '@brockm Yes, but probably a year or two away. Lot of fish to fry …'}, {'id': '1182828056416641025', 'date': 'Sat Oct 12 01:19:19 +0000 2019', 'text': '@bruce_mittleman Tesla cannot continue to lose money. To achieve our goal of environmental sustainability, Tesla mu… https://t.co/ArWGP4U79u'}, {'id': '1182827574361124864', 'date': 'Sat Oct 12 01:17:24 +0000 2019', 'text': 'Allows homeowner potential to go completely off grid'}, {'id': '1182827425551380482', 'date': 'Sat Oct 12 01:16:48 +0000 2019', 'text': 'V important: pure solar subscription is guaranteed to be a net money-maker for the homeowner or Tesla will take the… https://t.co/m3Z9eRHGzV'}, {'id': '1182826581070245888', 'date': 'Sat Oct 12 01:13:27 +0000 2019', 'text': '@cutza7 When the car is FSD without supervision, ie robotaxi, you’ll be able to earn far more than monthly lease/lo… https://t.co/0wyhUAyfnu'}, {'id': '1182825609686241280', 'date': 'Sat Oct 12 01:09:35 +0000 2019', 'text': '@tesla_addicted @sanjeev_r11 @vincent13031925 Putting panels on east or west facing roofs works well too. Energy lo… https://t.co/wG45nxMkNw'}, {'id': '1182824968200937472', 'date': 'Sat Oct 12 01:07:02 +0000 2019', 'text': '@wilsonlam 😉'}, {'id': '1182824823275155456', 'date': 'Sat Oct 12 01:06:28 +0000 2019', 'text': '@annerajb @Thebault_Arthur Working with engineering team to figure out best way to do upgrade without crushing serv… https://t.co/vENrP11kKA'}, {'id': '1182824078756872192', 'date': 'Sat Oct 12 01:03:30 +0000 2019', 'text': '@Thebault_Arthur Still working with RDW, the car regulatory authority in Netherlands. Unclear why there’s a delay.… https://t.co/9IwK1HoUs5'}, {'id': '1182823556830253056', 'date': 'Sat Oct 12 01:01:26 +0000 2019', 'text': 'Now that Tesla V10.0 with Smart Summon is out, Full Self-Driving price will increase by $1000 on Nov 1'}, {'id': '1182812717083611138', 'date': 'Sat Oct 12 00:18:22 +0000 2019', 'text': 'Get Tesla Solar plus Powerwall battery for 24/7 clean power &amp; no more blackouts! https://t.co/mDoPO17YB9'}, {'id': '1182808205425922049', 'date': 'Sat Oct 12 00:00:26 +0000 2019', 'text': '@mandeepdalip @Tesla Will be throughout Canada'}, {'id': '1182711457156190208', 'date': 'Fri Oct 11 17:35:59 +0000 2019', 'text': '@vincent13031925 It’s something special'}, {'id': '1182327145793634304', 'date': 'Thu Oct 10 16:08:52 +0000 2019', 'text': '@Gfilche @Tesla Fundamental metric of good of Tesla is how many years sooner it brings the advent of a sustainable energy future'}, {'id': '1182192515778170881', 'date': 'Thu Oct 10 07:13:54 +0000 2019', 'text': '@RationalEtienne @tesla_truth @AfMusk @28delayslater @EvaFoxU @JohnnaCrider1 @vincent13031925 @mayemusk… https://t.co/Tk7pCpZz6X'}, {'id': '1182189869344247809', 'date': 'Thu Oct 10 07:03:23 +0000 2019', 'text': '@sara_boutall @In2867Muk @parisreview I ♥️ Asterix &amp; Obelix!'}, {'id': '1182189464736526337', 'date': 'Thu Oct 10 07:01:47 +0000 2019', 'text': '@tesla_truth Exactly'}, {'id': '1182188397965656064', 'date': 'Thu Oct 10 06:57:32 +0000 2019', 'text': '@Milostoessel @Tesla @TeslaSchweiz Ok'}, {'id': '1182089703039700993', 'date': 'Thu Oct 10 00:25:22 +0000 2019', 'text': 'Also adding Tesla Solar to our Supercharger stations as fast as possible. Goal is 24/7 clean power with no blackouts.'}, {'id': '1182089226826813440', 'date': 'Thu Oct 10 00:23:28 +0000 2019', 'text': 'All Tesla Supercharger stations in regions affected by California power outages will have Tesla Powerpacks within n… https://t.co/WK81oHrGqj'}, {'id': '1182061315390492673', 'date': 'Wed Oct 09 22:32:33 +0000 2019', 'text': 'Sooo annoying!! https://t.co/QKtCC0YgDG'}, {'id': '1182059866052952066', 'date': 'Wed Oct 09 22:26:48 +0000 2019', 'text': 'https://t.co/BkKeiIzNPM'}, {'id': '1182005812975128576', 'date': 'Wed Oct 09 18:52:01 +0000 2019', 'text': '@Teslarati We’re changing Powerwall Storm Watch to Disaster Watch. Covers more bases.'}, {'id': '1181991353212817408', 'date': 'Wed Oct 09 17:54:33 +0000 2019', 'text': '@Kristennetten @annerajb @tesla_truth 🚀🚘 🧠🕳'}, {'id': '1181990505363599360', 'date': 'Wed Oct 09 17:51:11 +0000 2019', 'text': '@annerajb @tesla_truth Yes'}, {'id': '1181990398379483137', 'date': 'Wed Oct 09 17:50:45 +0000 2019', 'text': '@tesla_truth No change'}, {'id': '1181990010657984513', 'date': 'Wed Oct 09 17:49:13 +0000 2019', 'text': '@JimBridenstine @NASAMoon Important for Moonbase Alpha!'}, {'id': '1181989324797009922', 'date': 'Wed Oct 09 17:46:29 +0000 2019', 'text': '@GeorgKonjovic Working on it'}, {'id': '1181989103606255616', 'date': 'Wed Oct 09 17:45:37 +0000 2019', 'text': '@_GaryTheBot Even Gary likes it!'}, {'id': '1181988619000500224', 'date': 'Wed Oct 09 17:43:41 +0000 2019', 'text': 'It’s really quite fun!'}, {'id': '1181988380990558208', 'date': 'Wed Oct 09 17:42:44 +0000 2019', 'text': 'But we call it “caraoke”, because it’s in a 🚘'}, {'id': '1181988180326633472', 'date': 'Wed Oct 09 17:41:57 +0000 2019', 'text': 'Tesla software V10.0 comes with karaoke 🎤'}, {'id': '1181987789589508096', 'date': 'Wed Oct 09 17:40:23 +0000 2019', 'text': '@nextspaceflight Yes'}, {'id': '1181987612992524288', 'date': 'Wed Oct 09 17:39:41 +0000 2019', 'text': 'A Shortfall of Gravitas'}, {'id': '1181980074037301248', 'date': 'Wed Oct 09 17:09:44 +0000 2019', 'text': '@Thebault_Arthur @_GaryTheBot Next update'}, {'id': '1181979746550202368', 'date': 'Wed Oct 09 17:08:26 +0000 2019', 'text': '@_GaryTheBot siq burn, Gary, siq burn'}, {'id': '1181979597467873280', 'date': 'Wed Oct 09 17:07:50 +0000 2019', 'text': '🦌'}, {'id': '1181979201915604993', 'date': 'Wed Oct 09 17:06:16 +0000 2019', 'text': 'Why is there no emoji for dignity!!'}, {'id': '1181841203286790144', 'date': 'Wed Oct 09 07:57:55 +0000 2019', 'text': '@teslaownersSV Yes'}, {'id': '1181837821855711232', 'date': 'Wed Oct 09 07:44:28 +0000 2019', 'text': '@sara_boutall Door hinge'}, {'id': '1181837097444896768', 'date': 'Wed Oct 09 07:41:36 +0000 2019', 'text': 'the color orange is named after the fruit'}, {'id': '1181781720841908224', 'date': 'Wed Oct 09 04:01:33 +0000 2019', 'text': '@alex_gayer @teslaownersSV Will remove'}, {'id': '1181781181316026369', 'date': 'Wed Oct 09 03:59:24 +0000 2019', 'text': '@teslaownersSV Thanks for mentioning. Should be enabled on all loaner cars.'}, {'id': '1181781021785653248', 'date': 'Wed Oct 09 03:58:46 +0000 2019', 'text': '@Aero_JohnG @Erdayastronaut @SciGuySpace Yeah'}, {'id': '1181738919076851712', 'date': 'Wed Oct 09 01:11:28 +0000 2019', 'text': '@annerajb @Teslarati Not easily, as requires wire harness changes'}, {'id': '1181738665963208704', 'date': 'Wed Oct 09 01:10:28 +0000 2019', 'text': '@Teslarati 🦶 💨'}, {'id': '1181658171598917632', 'date': 'Tue Oct 08 19:50:36 +0000 2019', 'text': '@justpaulinelol I’m in the credits'}, {'id': '1181656686236508160', 'date': 'Tue Oct 08 19:44:42 +0000 2019', 'text': 'Worth reading “Human Compatible” by Stuart Russell (he’s great!) about future AI risks &amp; solutions https://t.co/ZCdvZrrcVf'}, {'id': '1181585837869297664', 'date': 'Tue Oct 08 15:03:11 +0000 2019', 'text': '@flcnhvy @SciGuySpace All hardware is at the Cape. Need to do static fire and reconfigure for flight. Launch probably late Nov / early Dec.'}, {'id': '1181584415362707456', 'date': 'Tue Oct 08 14:57:32 +0000 2019', 'text': '@SciGuySpace We had to reallocate some resources to speed this up &amp; received great support from Airborne, our parac… https://t.co/nuM43KoKDC'}, {'id': '1181579173388673025', 'date': 'Tue Oct 08 14:36:42 +0000 2019', 'text': '@SciGuySpace For what it’s worth, the SpaceX schedule, which I’ve just reviewed in depth, shows Falcon &amp; Dragon at… https://t.co/AloXFnfr3W'}, {'id': '1181497517759811584', 'date': 'Tue Oct 08 09:12:14 +0000 2019', 'text': '@alex_gayer 🤣'}, {'id': '1181345349148917760', 'date': 'Mon Oct 07 23:07:34 +0000 2019', 'text': '@flcnhvy @BnOrdhaug @Gizmodo Culture Class is really something'}, {'id': '1181344603716255745', 'date': 'Mon Oct 07 23:04:36 +0000 2019', 'text': '@BnOrdhaug @Gizmodo I hope so'}, {'id': '1181343438630838273', 'date': 'Mon Oct 07 22:59:58 +0000 2019', 'text': '@Gizmodo We’re doomed!'}, {'id': '1181304116498165760', 'date': 'Mon Oct 07 20:23:43 +0000 2019', 'text': '@pewdiepie Hāhā'}, {'id': '1181295442132230144', 'date': 'Mon Oct 07 19:49:15 +0000 2019', 'text': '@browserdotsys Haha true'}, {'id': '1181114635962814464', 'date': 'Mon Oct 07 07:50:47 +0000 2019', 'text': '@WellsAdams Done'}, {'id': '1181087900051492864', 'date': 'Mon Oct 07 06:04:33 +0000 2019', 'text': 'Trouble! https://t.co/qo2hR7Vcsp'}, {'id': '1181083687384838145', 'date': 'Mon Oct 07 05:47:49 +0000 2019', 'text': 'And that’s just the tip of the iceberg https://t.co/cgRKiDsdbK'}, {'id': '1181070766101549056', 'date': 'Mon Oct 07 04:56:28 +0000 2019', 'text': '@jesterpb @yukaichou @Tesla Agreed'}, {'id': '1180957431368568832', 'date': 'Sun Oct 06 21:26:07 +0000 2019', 'text': '@TameemJi @yukaichou @Tesla Good ones'}, {'id': '1180928986903265280', 'date': 'Sun Oct 06 19:33:05 +0000 2019', 'text': '@SpodieDodie Agreed, fair point'}, {'id': '1180927887970422785', 'date': 'Sun Oct 06 19:28:43 +0000 2019', 'text': '@yukaichou @Tesla Any feature requests?'}, {'id': '1180927745301176320', 'date': 'Sun Oct 06 19:28:09 +0000 2019', 'text': 'Given how quickly the world is shifting to electric vehicles, a gas/diesel vehicle bought today will probably have… https://t.co/aPRBK7hr1y'}, {'id': '1180878496224038914', 'date': 'Sun Oct 06 16:12:27 +0000 2019', 'text': '💨 &amp; 🐐 sounds too (also, of course)'}, {'id': '1180877799734665216', 'date': 'Sun Oct 06 16:09:41 +0000 2019', 'text': '@JudaMeg Will consider'}, {'id': '1180877420821237760', 'date': 'Sun Oct 06 16:08:11 +0000 2019', 'text': '@teslaownersSV Sure'}, {'id': '1180877114226008064', 'date': 'Sun Oct 06 16:06:58 +0000 2019', 'text': 'Customized horn &amp; movement sounds (coconuts being one, of course) coming to Teslas soon'}, {'id': '1180569585558228992', 'date': 'Sat Oct 05 19:44:57 +0000 2019', 'text': '@Erdayastronaut @bluemoondance74 @EvaFoxU Haha'}, {'id': '1180553336082157568', 'date': 'Sat Oct 05 18:40:23 +0000 2019', 'text': '@bluemoondance74 @EvaFoxU We will understand the next question'}, {'id': '1180553063301468160', 'date': 'Sat Oct 05 18:39:18 +0000 2019', 'text': '@justpaulinelol @EvaFoxU True'}, {'id': '1180552829498322945', 'date': 'Sat Oct 05 18:38:22 +0000 2019', 'text': '@EvaFoxU To understand the nature of consciousness'}, {'id': '1180320978435543042', 'date': 'Sat Oct 05 03:17:05 +0000 2019', 'text': '@Mikeado @Lancelot_Fox @Tommymcglynn @trevorandersen @fermatslibrary It’s true 🤣🤣'}, {'id': '1180264594364870660', 'date': 'Fri Oct 04 23:33:02 +0000 2019', 'text': '@vincent13031925 @Sofiaan @SCE Exactly'}, {'id': '1180165032690233345', 'date': 'Fri Oct 04 16:57:24 +0000 2019', 'text': '@rklau Great list of hotel hacks in this thread!'}, {'id': '1179996203574013953', 'date': 'Fri Oct 04 05:46:32 +0000 2019', 'text': '@tesla_truth 🤣🤣'}, {'id': '1179957355628253185', 'date': 'Fri Oct 04 03:12:10 +0000 2019', 'text': 'Excited about launching @NASA asteroid defense mission! #Armageddon69 https://t.co/6Hz4CKOLwU'}, {'id': '1179941711306358787', 'date': 'Fri Oct 04 02:10:00 +0000 2019', 'text': '@nichegamer Let’s go boyz!'}, {'id': '1179925839669891072', 'date': 'Fri Oct 04 01:06:56 +0000 2019', 'text': '@TeslaOwnersSK @Tesla Sorry it took so long!'}, {'id': '1179897546161848320', 'date': 'Thu Oct 03 23:14:31 +0000 2019', 'text': '@TarikCelebii Wow, cool! Summon will get steadily smoother until it’s like an expert chauffeur who knows you well.'}, {'id': '1179799146464628736', 'date': 'Thu Oct 03 16:43:30 +0000 2019', 'text': '@flcnhvy @HarryStoltz1 Welded steel'}, {'id': '1179624066375774209', 'date': 'Thu Oct 03 05:07:48 +0000 2019', 'text': '@HarryStoltz1 Probably Starlink 🛰 &amp; some fun things'}, {'id': '1179576466721259520', 'date': 'Thu Oct 03 01:58:39 +0000 2019', 'text': 'Rosetta by Vangelis is incredible https://t.co/MKqbsdVVsN'}, {'id': '1179524946478817280', 'date': 'Wed Oct 02 22:33:56 +0000 2019', 'text': '@teslaownersSV @arctechinc Not sure, will ask regulators'}, {'id': '1179524799804002304', 'date': 'Wed Oct 02 22:33:21 +0000 2019', 'text': '@AdamTForbes @annerajb @flcnhvy Enhanced should get it too'}, {'id': '1179524256792641542', 'date': 'Wed Oct 02 22:31:11 +0000 2019', 'text': '@arctechinc Aiming for this weekend!'}, {'id': '1179523171780681728', 'date': 'Wed Oct 02 22:26:53 +0000 2019', 'text': '@annerajb @flcnhvy Hopefully, a month or two, although it may be a little silly at first'}, {'id': '1179522786240319488', 'date': 'Wed Oct 02 22:25:21 +0000 2019', 'text': '@flcnhvy Not yet'}, {'id': '1179522738278395905', 'date': 'Wed Oct 02 22:25:09 +0000 2019', 'text': '@MemesOfMars First point release update expected to go out this weekend'}, {'id': '1179520622004588544', 'date': 'Wed Oct 02 22:16:45 +0000 2019', 'text': 'Over 550,000 Tesla Smart Summon uses in first few days!'}, {'id': '1179519667808768000', 'date': 'Wed Oct 02 22:12:57 +0000 2019', 'text': '@tesla_truth Thanks, Tesla team is the strongest it’s ever been &amp; doing an amazing job! Honored to work beside them.'}, {'id': '1179159128708538370', 'date': 'Tue Oct 01 22:20:18 +0000 2019', 'text': '@justpaulinelol @KeithMansfield @Erdayastronaut If 20km works, then orbit'}, {'id': '1179158176618315776', 'date': 'Tue Oct 01 22:16:31 +0000 2019', 'text': '@KeithMansfield @Erdayastronaut Great summary of the key points!'}, {'id': '1179154111616274433', 'date': 'Tue Oct 01 22:00:22 +0000 2019', 'text': '@OranMaliphant @Erdayastronaut @AngelNDevil2 @MarkChica @FutureJurvetson @bluemoondance74 @SpaceX That’s about righ… https://t.co/UuXAf1fpBh'}, {'id': '1179107730876796928', 'date': 'Tue Oct 01 18:56:04 +0000 2019', 'text': '@AngelNDevil2 @MarkChica @FutureJurvetson @bluemoondance74 @SpaceX It’s all the “secondary” structure that concerns… https://t.co/vQeVrk8J4V'}, {'id': '1179107539352313856', 'date': 'Tue Oct 01 18:55:18 +0000 2019', 'text': '@AngelNDevil2 @MarkChica @FutureJurvetson @bluemoondance74 @SpaceX Raptor cost is tracking to well under $1M for V1… https://t.co/ic6sKxZLFG'}, {'id': '1179090138644668416', 'date': 'Tue Oct 01 17:46:10 +0000 2019', 'text': '@JohnnaCrider1 @RationalEtienne @LaurenRow5 @RenataKonkoly @Kristennetten @EvaFoxU @MemesOfMars @PositivePyrami1 Stop sending me this 💩 🤣🤣'}, {'id': '1179079219801812993', 'date': 'Tue Oct 01 17:02:46 +0000 2019', 'text': '@RationalEtienne @LaurenRow5 @EvaFoxU @Kristennetten @SteveHamel16 @TheElonMasked @MemesOfMars @MichellBasler… https://t.co/O4xgr8y6kc'}, {'id': '1179078946941353984', 'date': 'Tue Oct 01 17:01:41 +0000 2019', 'text': '@Kristennetten @SS4Adrian I have that exact thought every time I get the flu'}, {'id': '1179074198540435456', 'date': 'Tue Oct 01 16:42:49 +0000 2019', 'text': '@SS4Adrian Clearly a sign of the apocalypse!'}, {'id': '1178956709731024896', 'date': 'Tue Oct 01 08:55:58 +0000 2019', 'text': '@engineers_feed Lot of ways to melt &amp; join steel. Mostly just needs to be welded consistently &amp; with precise parts.'}, {'id': '1178956134968807424', 'date': 'Tue Oct 01 08:53:41 +0000 2019', 'text': '@engineers_feed Thankfully not. FSW is very difficult to get right &amp; not needed with steel.'}, {'id': '1178938112195514368', 'date': 'Tue Oct 01 07:42:04 +0000 2019', 'text': 'Production version will be a lot more polished than this prototype, but still fun to see'}, {'id': '1178934984167448577', 'date': 'Tue Oct 01 07:29:38 +0000 2019', 'text': '@ColinPearceUK Bigger flaps/fins at rear also moves center of pressure back'}, {'id': '1178932681028980736', 'date': 'Tue Oct 01 07:20:29 +0000 2019', 'text': '@TrevorMahlmann Haha yes'}, {'id': '1178932062733996032', 'date': 'Tue Oct 01 07:18:01 +0000 2019', 'text': '@HarryStoltz1 In solving for a good Mars climate, we will learn a great deal about how to do so on Earth. It is the inverse problem.'}, {'id': '1178931253229187072', 'date': 'Tue Oct 01 07:14:48 +0000 2019', 'text': 'Inside Starship cargo bay. Header tanks mounted in tip of nosecone to offset engine weight at rear. https://t.co/EJSwqMCooA'}, {'id': '1178905464202883072', 'date': 'Tue Oct 01 05:32:20 +0000 2019', 'text': '@EvaFoxU @DisruptResearch @Tesla @karpathy Cool video!'}, {'id': '1178818555061493761', 'date': 'Mon Sep 30 23:46:59 +0000 2019', 'text': '@DisruptResearch @Tesla @karpathy Probably our most viral feature ever. Most of the Autopilot team has been working… https://t.co/Vs7de166X3'}, {'id': '1178807103273631744', 'date': 'Mon Sep 30 23:01:29 +0000 2019', 'text': '@S_Padival @Tesla @business @liamdenning @josheidelson @danahull @ZekeFaux Good question'}, {'id': '1178107012141535232', 'date': 'Sun Sep 29 00:39:34 +0000 2019', 'text': '@thejackbeyer 😀'}, {'id': '1178014342031298561', 'date': 'Sat Sep 28 18:31:20 +0000 2019', 'text': 'Rage, rage against the dying of the light https://t.co/aGRw4VowAQ'}, {'id': '1178013709546991619', 'date': 'Sat Sep 28 18:28:49 +0000 2019', 'text': '@tesla_truth @NRF_designs We’re going to use the pedestrian pink noise speaker to talk to people &amp; create customize… https://t.co/cWLXua7AnI'}, {'id': '1178012340383621120', 'date': 'Sat Sep 28 18:23:23 +0000 2019', 'text': '@tesla_truth Special light pattern (but not hazards, as they’re too shrill) seems right'}, {'id': '1178011464852004864', 'date': 'Sat Sep 28 18:19:54 +0000 2019', 'text': '@tesla_truth Makes sense'}, {'id': '1177961429703507968', 'date': 'Sat Sep 28 15:01:04 +0000 2019', 'text': '@tesla_truth @Tesla Precisely'}, {'id': '1177665592242794497', 'date': 'Fri Sep 27 19:25:31 +0000 2019', 'text': 'To make life as we know it multiplanetary'}, {'id': '1177665504699224064', 'date': 'Fri Sep 27 19:25:10 +0000 2019', 'text': 'Starship will allow us to inhabit other worlds'}, {'id': '1177662806117584896', 'date': 'Fri Sep 27 19:14:27 +0000 2019', 'text': 'Starship halves being joined https://t.co/7pdxfh8e81'}, {'id': '1177657997134221312', 'date': 'Fri Sep 27 18:55:21 +0000 2019', 'text': 'Summon is improving rapidly \\nhttps://t.co/khgXDRnD2Z'}, {'id': '1177631358987849729', 'date': 'Fri Sep 27 17:09:29 +0000 2019', 'text': '@flcnhvy @Erdayastronaut @Cor_SPACE Just SX500 so far, but we use many superalloys developed by others, eg Inco 718… https://t.co/2ZRmiA1peV'}, {'id': '1177630155801419778', 'date': 'Fri Sep 27 17:04:43 +0000 2019', 'text': '@Erdayastronaut @Cor_SPACE There’s so much power going through this engine that it’s close to the limit of the know… https://t.co/7LEcDvIRi0'}, {'id': '1177628992762855426', 'date': 'Fri Sep 27 17:00:05 +0000 2019', 'text': '@Carter__99 @Erdayastronaut @askingbubble385 @Cor_SPACE Yes'}, {'id': '1177628790609997825', 'date': 'Fri Sep 27 16:59:17 +0000 2019', 'text': '@Erdayastronaut @Cor_SPACE Well, hopefully closer to 300 bar over time. However, that the chamber/nozzle jacket has… https://t.co/VWegWXxxsL'}, {'id': '1177622466727821312', 'date': 'Fri Sep 27 16:34:09 +0000 2019', 'text': '@flcnhvy @Erdayastronaut @Cor_SPACE No, we’ve been focusing on production (now on SN12). Only need 250 bar or even… https://t.co/MCIxOMAXeJ'}, {'id': '1177621843219365888', 'date': 'Fri Sep 27 16:31:41 +0000 2019', 'text': '@NCBirbhan @Erdayastronaut @Cor_SPACE Probably around 6 or 7pm'}, {'id': '1177621104686329856', 'date': 'Fri Sep 27 16:28:45 +0000 2019', 'text': '@Erdayastronaut @Cor_SPACE What blows my mind is that peak pressure in regen chamber &amp; nozzle is *far* above combus… https://t.co/QZf6knzhq9'}, {'id': '1177618467136008194', 'date': 'Fri Sep 27 16:18:16 +0000 2019', 'text': '@GaryTheBot_ Figure of speech'}, {'id': '1177618401159602176', 'date': 'Fri Sep 27 16:18:00 +0000 2019', 'text': 'Meanwhile, back in reality https://t.co/NrHHB9G81L'}, {'id': '1177618032719319040', 'date': 'Fri Sep 27 16:16:32 +0000 2019', 'text': '@DLoesch Media report was false'}, {'id': '1177387141116002304', 'date': 'Fri Sep 27 00:59:03 +0000 2019', 'text': '@Erdayastronaut @Cor_SPACE Raptor uses milled copper channels with an inconel jacket all the way down'}, {'id': '1177314408604680192', 'date': 'Thu Sep 26 20:10:03 +0000 2019', 'text': 'Three Raptors on a Starship https://t.co/UrRiD62EVk'}, {'id': '1177259561117372417', 'date': 'Thu Sep 26 16:32:06 +0000 2019', 'text': '@EvaFoxU @BrendanCogbill7 Always'}, {'id': '1177241843093753862', 'date': 'Thu Sep 26 15:21:42 +0000 2019', 'text': '@SpacePadreIsle @SpaceX Wow, it’s been 5 years since we started at Boca!'}, {'id': '1177237783489863681', 'date': 'Thu Sep 26 15:05:34 +0000 2019', 'text': '@BrendanCogbill7 About a week. Will include slight improvements, based on initial user feedback.'}, {'id': '1177236839406559232', 'date': 'Thu Sep 26 15:01:49 +0000 2019', 'text': '@justpaulinelol We look for rare corner case issues with a limited release US build, then expand internationally as… https://t.co/Lqw9n2ZHvR'}, {'id': '1177235963405193216', 'date': 'Thu Sep 26 14:58:20 +0000 2019', 'text': '@GaryTheBot_ Gary, you rock!'}, {'id': '1177235772857970688', 'date': 'Thu Sep 26 14:57:34 +0000 2019', 'text': 'Tesla V10.0 just started rolling out to all US Tesla owners with FSD option &amp; “advanced download” selected in vehicle software settings'}, {'id': '1177101142980825093', 'date': 'Thu Sep 26 06:02:36 +0000 2019', 'text': '@moyo5150 More like https://t.co/f8BUlz0Xdo'}, {'id': '1177100271937212416', 'date': 'Thu Sep 26 05:59:08 +0000 2019', 'text': 'Anonymous bot swarms deserve a closer examination. If they’re evolving rapidly, something’s up.'}, {'id': '1177099375287271424', 'date': 'Thu Sep 26 05:55:35 +0000 2019', 'text': 'If advanced AI (beyond basic bots) hasn’t been applied to manipulate social media, it won’t be long before it is'}, {'id': '1177096273628778496', 'date': 'Thu Sep 26 05:43:15 +0000 2019', 'text': '@Wally_Wests Exactly'}, {'id': '1177090550916239360', 'date': 'Thu Sep 26 05:20:31 +0000 2019', 'text': '@Kristennetten @annerajb @Jennerator211 @Erdayastronaut That would be a nice touch'}, {'id': '1177085193007456256', 'date': 'Thu Sep 26 04:59:13 +0000 2019', 'text': '@flcnhvy @28delayslater @DJSnM This is quite a complex beast, but hopefully within a month or so'}, {'id': '1177084577128448000', 'date': 'Thu Sep 26 04:56:47 +0000 2019', 'text': '@28delayslater @DJSnM Haha awesome'}, {'id': '1177074975020220416', 'date': 'Thu Sep 26 04:18:37 +0000 2019', 'text': '@MarkChica @Kristennetten @TeslaGong @teslaownersSV @Teslatunity @Tesla We could probably do that'}, {'id': '1177070801121468418', 'date': 'Thu Sep 26 04:02:02 +0000 2019', 'text': '@Erdayastronaut 50m'}, {'id': '1177069611142901762', 'date': 'Thu Sep 26 03:57:18 +0000 2019', 'text': '@TeslaGong @teslaownersSV @Teslatunity @Tesla Not sure we could go quite that tight, but we can for sure allow much… https://t.co/wolYBBZMS7'}, {'id': '1177067257106747392', 'date': 'Thu Sep 26 03:47:57 +0000 2019', 'text': '@annerajb @Jennerator211 @Erdayastronaut With rare exceptions, composites would make Starship heavier. They don’t s… https://t.co/OeeigvDiI8'}, {'id': '1177066483375058944', 'date': 'Thu Sep 26 03:44:53 +0000 2019', 'text': '@Jennerator211 @Erdayastronaut Mk1 ship is around 200 tons dry &amp; 1400 tons wet, but aiming for 120 by Mk4 or Mk5. T… https://t.co/yTUpGx0Ppa'}, {'id': '1177064952429010945', 'date': 'Thu Sep 26 03:38:48 +0000 2019', 'text': '@teslaownersSV @Teslatunity @Tesla Absolutely'}, {'id': '1177062354577756160', 'date': 'Thu Sep 26 03:28:28 +0000 2019', 'text': '@Teslatunity @Tesla You’re welcome! Feature requests always appreciated.'}, {'id': '1177051800769138690', 'date': 'Thu Sep 26 02:46:32 +0000 2019', 'text': '@Erdayastronaut @kimitalvitie Six. Two windward, one under each fin &amp; two leeward. Provides redundancy for landing on unimproved surfaces.'}, {'id': '1177050841041125376', 'date': 'Thu Sep 26 02:42:43 +0000 2019', 'text': 'On the transporter https://t.co/CGNj1MlKAU'}, {'id': '1177049277375250434', 'date': 'Thu Sep 26 02:36:30 +0000 2019', 'text': 'Lifting lower section of Starship https://t.co/bfW17i469a'}, {'id': '1176936806928879616', 'date': 'Wed Sep 25 19:09:35 +0000 2019', 'text': '@justpaulinelol @EvaFoxU @katlinegrey https://t.co/IzVngWWY7G'}, {'id': '1176930839411642368', 'date': 'Wed Sep 25 18:45:53 +0000 2019', 'text': '@EvaFoxU @katlinegrey правда'}, {'id': '1176928113285971968', 'date': 'Wed Sep 25 18:35:03 +0000 2019', 'text': '@katlinegrey язык хорошо подвешен'}, {'id': '1176737065624453125', 'date': 'Wed Sep 25 05:55:53 +0000 2019', 'text': '@levie Exactly'}, {'id': '1176596320775094273', 'date': 'Tue Sep 24 20:36:37 +0000 2019', 'text': '@tannerfox Impressive work by Chad &amp; Steve!'}, {'id': '1176589331567452161', 'date': 'Tue Sep 24 20:08:51 +0000 2019', 'text': '@SamNazarius @HarryStoltz1 @justpaulinelol @Teslarati Almost entirely C++, but we did have an (advanced for the tim… https://t.co/0SbJqgtWsG'}, {'id': '1176588054670323713', 'date': 'Tue Sep 24 20:03:46 +0000 2019', 'text': '@HarryStoltz1 @justpaulinelol @Teslarati Turbo Pascal'}, {'id': '1176587698401947650', 'date': 'Tue Sep 24 20:02:21 +0000 2019', 'text': '@justpaulinelol @Teslarati Mostly C/C++, Python &amp; SQL'}, {'id': '1176586684751908872', 'date': 'Tue Sep 24 19:58:20 +0000 2019', 'text': '@flcnhvy @Erdayastronaut @Tesla It would be pretty embarrassing to use a non-Tesla battery!'}, {'id': '1176585904091275264', 'date': 'Tue Sep 24 19:55:14 +0000 2019', 'text': '@Teslarati This includes original engineering of new factory processes &amp; cars. Great engineers will only join if or… https://t.co/zCAndlhS72'}]\n",
    "\n",
    "date3 = []\n",
    "for i in range(tweet.shape[0]):\n",
    "    a = parse(d.date[i])\n",
    "    date2 = a.strftime(\"%Y-%m-%d\")\n",
    "    date3.append(date2)"
   ]
  },
  {
   "cell_type": "code",
   "execution_count": 181,
   "metadata": {},
   "outputs": [],
   "source": [
    "date3 = pd.DataFrame(date3)"
   ]
  },
  {
   "cell_type": "code",
   "execution_count": 192,
   "metadata": {},
   "outputs": [],
   "source": [
    "d2 = pd.concat([d, date3], axis = 1)"
   ]
  },
  {
   "cell_type": "code",
   "execution_count": 196,
   "metadata": {},
   "outputs": [],
   "source": [
    "d2.date = d2.iloc[:,[-1]]"
   ]
  },
  {
   "cell_type": "code",
   "execution_count": 201,
   "metadata": {},
   "outputs": [
    {
     "data": {
      "text/html": [
       "<div>\n",
       "<style scoped>\n",
       "    .dataframe tbody tr th:only-of-type {\n",
       "        vertical-align: middle;\n",
       "    }\n",
       "\n",
       "    .dataframe tbody tr th {\n",
       "        vertical-align: top;\n",
       "    }\n",
       "\n",
       "    .dataframe thead th {\n",
       "        text-align: right;\n",
       "    }\n",
       "</style>\n",
       "<table border=\"1\" class=\"dataframe\">\n",
       "  <thead>\n",
       "    <tr style=\"text-align: right;\">\n",
       "      <th></th>\n",
       "      <th>id</th>\n",
       "      <th>date</th>\n",
       "      <th>text</th>\n",
       "    </tr>\n",
       "  </thead>\n",
       "  <tbody>\n",
       "    <tr>\n",
       "      <td>0</td>\n",
       "      <td>1183223595008266241</td>\n",
       "      <td>2019-10-13</td>\n",
       "      <td>@jay11w Recommended for sure. Both movies are ...</td>\n",
       "    </tr>\n",
       "    <tr>\n",
       "      <td>1</td>\n",
       "      <td>1183222226130046980</td>\n",
       "      <td>2019-10-13</td>\n",
       "      <td>First will rewatch Godfather Part II, then Spa...</td>\n",
       "    </tr>\n",
       "    <tr>\n",
       "      <td>2</td>\n",
       "      <td>1183221390016536581</td>\n",
       "      <td>2019-10-13</td>\n",
       "      <td>Underappreciated 🎥, will watch!</td>\n",
       "    </tr>\n",
       "    <tr>\n",
       "      <td>3</td>\n",
       "      <td>1183220879951462400</td>\n",
       "      <td>2019-10-13</td>\n",
       "      <td>Is Space Jam good?</td>\n",
       "    </tr>\n",
       "    <tr>\n",
       "      <td>4</td>\n",
       "      <td>1183201528036786178</td>\n",
       "      <td>2019-10-13</td>\n",
       "      <td>@Nobody_Really7 @anonyx10 @mayemusk So it goes</td>\n",
       "    </tr>\n",
       "  </tbody>\n",
       "</table>\n",
       "</div>"
      ],
      "text/plain": [
       "                    id        date  \\\n",
       "0  1183223595008266241  2019-10-13   \n",
       "1  1183222226130046980  2019-10-13   \n",
       "2  1183221390016536581  2019-10-13   \n",
       "3  1183220879951462400  2019-10-13   \n",
       "4  1183201528036786178  2019-10-13   \n",
       "\n",
       "                                                text  \n",
       "0  @jay11w Recommended for sure. Both movies are ...  \n",
       "1  First will rewatch Godfather Part II, then Spa...  \n",
       "2                    Underappreciated 🎥, will watch!  \n",
       "3                                 Is Space Jam good?  \n",
       "4     @Nobody_Really7 @anonyx10 @mayemusk So it goes  "
      ]
     },
     "execution_count": 201,
     "metadata": {},
     "output_type": "execute_result"
    }
   ],
   "source": [
    "d2 = d2[['id', 'date', 'text']]"
   ]
  },
  {
   "cell_type": "code",
   "execution_count": 229,
   "metadata": {},
   "outputs": [],
   "source": [
    "#fetching the data\n",
    "d = getStuffFromTwitter\n",
    "#d = [{'id': '1183223595008266241', 'date': 'Sun Oct 13 03:31:02 +0000 2019', 'text': '@jay11w Recommended for sure. Both movies are incredible.'}, {'id': '1183222226130046980', 'date': 'Sun Oct 13 03:25:36 +0000 2019', 'text': 'First will rewatch Godfather Part II, then Space Jam'}, {'id': '1183221390016536581', 'date': 'Sun Oct 13 03:22:17 +0000 2019', 'text': 'Underappreciated , will watch!'}, {'id': '1183220879951462400', 'date': 'Sun Oct 13 03:20:15 +0000 2019', 'text': 'Is Space Jam good?'}, {'id': '1183201528036786178', 'date': 'Sun Oct 13 02:03:21 +0000 2019', 'text': '@NobodyReally7 @anonyx10 @mayemusk So it goes'}, {'id': '1183198657136324610', 'date': 'Sun Oct 13 01:51:57 +0000 2019', 'text': '@anonyx10 @mayemusk Sure looks that way'}, {'id': '1183152738382667777', 'date': 'Sat Oct 12 22:49:29 +0000 2019', 'text': '@owlmaster08 @Tesla Nice '}, {'id': '1183150916473516032', 'date': 'Sat Oct 12 22:42:15 +0000 2019', 'text': '@Erdayastronaut Solar'}, {'id': '1183150883162349569', 'date': 'Sat Oct 12 22:42:07 +0000 2019', 'text': '@Erdayastronaut Depends on total system efficiency &amp; how long the propellant plant can run to refill Starship, so 1 to 10MW as a rough guess'}, {'id': '1183123445787185152', 'date': 'Sat Oct 12 20:53:05 +0000 2019', 'text': '@bonnienorman Whoa, that does look good!'}, {'id': '1183119389211549696', 'date': 'Sat Oct 12 20:36:58 +0000 2019', 'text': '@Macwars Fair point. Will hold on EU price change until Tesla gets clarity from regulators about Smart Summon feature release date.'}, {'id': '1183118245458432001', 'date': 'Sat Oct 12 20:32:25 +0000 2019', 'text': 'French fries  are the devil  https://t.co/AR3h57RPIA'}, {'id': '1183114722989621248', 'date': 'Sat Oct 12 20:18:25 +0000 2019', 'text': '@teslatruth @BarkMSmeagol @vincent13031925 @jchybow @JohnnaCrider1 @28delayslater @flcnhvy @AfMusk . https://t.co/vplI7NQDb6'}, {'id': '1183106801769697280', 'date': 'Sat Oct 12 19:46:57 +0000 2019', 'text': '@teslatruth @BarkMSmeagol @vincent13031925 @jchybow @JohnnaCrider1 @28delayslater @flcnhvy @AfMusk Super messed up situation!'}, {'id': '1183082764515414016', 'date': 'Sat Oct 12 18:11:26 +0000 2019', 'text': '@cleantechnica Several finesse improvements coming to Smart Summon in coming weeks. Will be smooth as silk.'}, {'id': '1183081171644628992', 'date': 'Sat Oct 12 18:05:06 +0000 2019', 'text': '@wk057 @Tesla Should be much better at this point'}, {'id': '1183033425529147392', 'date': 'Sat Oct 12 14:55:23 +0000 2019', 'text': 'Nevada has an additional $3000 rebate for battery storage with solar https://t.co/bRibVqomzy'}, {'id': '1182828744748044288', 'date': 'Sat Oct 12 01:22:03 +0000 2019', 'text': 'Price for fully installed solar plus battery has been reduced 10% to help those affected by blackouts'}, {'id': '1182828388852977665', 'date': 'Sat Oct 12 01:20:38 +0000 2019', 'text': '@brockm Yes, but probably a year or two away. Lot of fish to fry '}, {'id': '1182828056416641025', 'date': 'Sat Oct 12 01:19:19 +0000 2019', 'text': '@brucemittleman Tesla cannot continue to lose money. To achieve our goal of environmental sustainability, Tesla mu https://t.co/ArWGP4U79u'}, {'id': '1182827574361124864', 'date': 'Sat Oct 12 01:17:24 +0000 2019', 'text': 'Allows homeowner potential to go completely off grid'}, {'id': '1182827425551380482', 'date': 'Sat Oct 12 01:16:48 +0000 2019', 'text': 'V important: pure solar subscription is guaranteed to be a net money-maker for the homeowner or Tesla will take the https://t.co/m3Z9eRHGzV'}, {'id': '1182826581070245888', 'date': 'Sat Oct 12 01:13:27 +0000 2019', 'text': '@cutza7 When the car is FSD without supervision, ie robotaxi, youll be able to earn far more than monthly lease/lo https://t.co/0wyhUAyfnu'}, {'id': '1182825609686241280', 'date': 'Sat Oct 12 01:09:35 +0000 2019', 'text': '@teslaaddicted @sanjeevr11 @vincent13031925 Putting panels on east or west facing roofs works well too. Energy lo https://t.co/wG45nxMkNw'}, {'id': '1182824968200937472', 'date': 'Sat Oct 12 01:07:02 +0000 2019', 'text': '@wilsonlam '}, {'id': '1182824823275155456', 'date': 'Sat Oct 12 01:06:28 +0000 2019', 'text': '@annerajb @ThebaultArthur Working with engineering team to figure out best way to do upgrade without crushing serv https://t.co/vENrP11kKA'}, {'id': '1182824078756872192', 'date': 'Sat Oct 12 01:03:30 +0000 2019', 'text': '@ThebaultArthur Still working with RDW, the car regulatory authority in Netherlands. Unclear why theres a delay. https://t.co/9IwK1HoUs5'}, {'id': '1182823556830253056', 'date': 'Sat Oct 12 01:01:26 +0000 2019', 'text': 'Now that Tesla V10.0 with Smart Summon is out, Full Self-Driving price will increase by $1000 on Nov 1'}, {'id': '1182812717083611138', 'date': 'Sat Oct 12 00:18:22 +0000 2019', 'text': 'Get Tesla Solar plus Powerwall battery for 24/7 clean power &amp; no more blackouts! https://t.co/mDoPO17YB9'}, {'id': '1182808205425922049', 'date': 'Sat Oct 12 00:00:26 +0000 2019', 'text': '@mandeepdalip @Tesla Will be throughout Canada'}, {'id': '1182711457156190208', 'date': 'Fri Oct 11 17:35:59 +0000 2019', 'text': '@vincent13031925 Its something special'}, {'id': '1182327145793634304', 'date': 'Thu Oct 10 16:08:52 +0000 2019', 'text': '@Gfilche @Tesla Fundamental metric of good of Tesla is how many years sooner it brings the advent of a sustainable energy future'}, {'id': '1182192515778170881', 'date': 'Thu Oct 10 07:13:54 +0000 2019', 'text': '@RationalEtienne @teslatruth @AfMusk @28delayslater @EvaFoxU @JohnnaCrider1 @vincent13031925 @mayemusk https://t.co/Tk7pCpZz6X'}, {'id': '1182189869344247809', 'date': 'Thu Oct 10 07:03:23 +0000 2019', 'text': '@saraboutall @In2867Muk @parisreview I  Asterix &amp; Obelix!'}, {'id': '1182189464736526337', 'date': 'Thu Oct 10 07:01:47 +0000 2019', 'text': '@teslatruth Exactly'}, {'id': '1182188397965656064', 'date': 'Thu Oct 10 06:57:32 +0000 2019', 'text': '@Milostoessel @Tesla @TeslaSchweiz Ok'}, {'id': '1182089703039700993', 'date': 'Thu Oct 10 00:25:22 +0000 2019', 'text': 'Also adding Tesla Solar to our Supercharger stations as fast as possible. Goal is 24/7 clean power with no blackouts.'}, {'id': '1182089226826813440', 'date': 'Thu Oct 10 00:23:28 +0000 2019', 'text': 'All Tesla Supercharger stations in regions affected by California power outages will have Tesla Powerpacks within n https://t.co/WK81oHrGqj'}, {'id': '1182061315390492673', 'date': 'Wed Oct 09 22:32:33 +0000 2019', 'text': 'Sooo annoying!! https://t.co/QKtCC0YgDG'}, {'id': '1182059866052952066', 'date': 'Wed Oct 09 22:26:48 +0000 2019', 'text': 'https://t.co/BkKeiIzNPM'}, {'id': '1182005812975128576', 'date': 'Wed Oct 09 18:52:01 +0000 2019', 'text': '@Teslarati Were changing Powerwall Storm Watch to Disaster Watch. Covers more bases.'}, {'id': '1181991353212817408', 'date': 'Wed Oct 09 17:54:33 +0000 2019', 'text': '@Kristennetten @annerajb @teslatruth  '}, {'id': '1181990505363599360', 'date': 'Wed Oct 09 17:51:11 +0000 2019', 'text': '@annerajb @teslatruth Yes'}, {'id': '1181990398379483137', 'date': 'Wed Oct 09 17:50:45 +0000 2019', 'text': '@teslatruth No change'}, {'id': '1181990010657984513', 'date': 'Wed Oct 09 17:49:13 +0000 2019', 'text': '@JimBridenstine @NASAMoon Important for Moonbase Alpha!'}, {'id': '1181989324797009922', 'date': 'Wed Oct 09 17:46:29 +0000 2019', 'text': '@GeorgKonjovic Working on it'}, {'id': '1181989103606255616', 'date': 'Wed Oct 09 17:45:37 +0000 2019', 'text': '@GaryTheBot Even Gary likes it!'}, {'id': '1181988619000500224', 'date': 'Wed Oct 09 17:43:41 +0000 2019', 'text': 'Its really quite fun!'}, {'id': '1181988380990558208', 'date': 'Wed Oct 09 17:42:44 +0000 2019', 'text': 'But we call it caraoke, because its in a '}, {'id': '1181988180326633472', 'date': 'Wed Oct 09 17:41:57 +0000 2019', 'text': 'Tesla software V10.0 comes with karaoke '}, {'id': '1181987789589508096', 'date': 'Wed Oct 09 17:40:23 +0000 2019', 'text': '@nextspaceflight Yes'}, {'id': '1181987612992524288', 'date': 'Wed Oct 09 17:39:41 +0000 2019', 'text': 'A Shortfall of Gravitas'}, {'id': '1181980074037301248', 'date': 'Wed Oct 09 17:09:44 +0000 2019', 'text': '@ThebaultArthur @GaryTheBot Next update'}, {'id': '1181979746550202368', 'date': 'Wed Oct 09 17:08:26 +0000 2019', 'text': '@GaryTheBot siq burn, Gary, siq burn'}, {'id': '1181979597467873280', 'date': 'Wed Oct 09 17:07:50 +0000 2019', 'text': ''}, {'id': '1181979201915604993', 'date': 'Wed Oct 09 17:06:16 +0000 2019', 'text': 'Why is there no emoji for dignity!!'}, {'id': '1181841203286790144', 'date': 'Wed Oct 09 07:57:55 +0000 2019', 'text': '@teslaownersSV Yes'}, {'id': '1181837821855711232', 'date': 'Wed Oct 09 07:44:28 +0000 2019', 'text': '@saraboutall Door hinge'}, {'id': '1181837097444896768', 'date': 'Wed Oct 09 07:41:36 +0000 2019', 'text': 'the color orange is named after the fruit'}, {'id': '1181781720841908224', 'date': 'Wed Oct 09 04:01:33 +0000 2019', 'text': '@alexgayer @teslaownersSV Will remove'}, {'id': '1181781181316026369', 'date': 'Wed Oct 09 03:59:24 +0000 2019', 'text': '@teslaownersSV Thanks for mentioning. Should be enabled on all loaner cars.'}, {'id': '1181781021785653248', 'date': 'Wed Oct 09 03:58:46 +0000 2019', 'text': '@AeroJohnG @Erdayastronaut @SciGuySpace Yeah'}, {'id': '1181738919076851712', 'date': 'Wed Oct 09 01:11:28 +0000 2019', 'text': '@annerajb @Teslarati Not easily, as requires wire harness changes'}, {'id': '1181738665963208704', 'date': 'Wed Oct 09 01:10:28 +0000 2019', 'text': '@Teslarati  '}, {'id': '1181658171598917632', 'date': 'Tue Oct 08 19:50:36 +0000 2019', 'text': '@justpaulinelol Im in the credits'}, {'id': '1181656686236508160', 'date': 'Tue Oct 08 19:44:42 +0000 2019', 'text': 'Worth reading Human Compatible by Stuart Russell (hes great!) about future AI risks &amp; solutions https://t.co/ZCdvZrrcVf'}, {'id': '1181585837869297664', 'date': 'Tue Oct 08 15:03:11 +0000 2019', 'text': '@flcnhvy @SciGuySpace All hardware is at the Cape. Need to do static fire and reconfigure for flight. Launch probably late Nov / early Dec.'}, {'id': '1181584415362707456', 'date': 'Tue Oct 08 14:57:32 +0000 2019', 'text': '@SciGuySpace We had to reallocate some resources to speed this up &amp; received great support from Airborne, our parac https://t.co/nuM43KoKDC'}, {'id': '1181579173388673025', 'date': 'Tue Oct 08 14:36:42 +0000 2019', 'text': '@SciGuySpace For what its worth, the SpaceX schedule, which Ive just reviewed in depth, shows Falcon &amp; Dragon at https://t.co/AloXFnfr3W'}, {'id': '1181497517759811584', 'date': 'Tue Oct 08 09:12:14 +0000 2019', 'text': '@alexgayer '}, {'id': '1181345349148917760', 'date': 'Mon Oct 07 23:07:34 +0000 2019', 'text': '@flcnhvy @BnOrdhaug @Gizmodo Culture Class is really something'}, {'id': '1181344603716255745', 'date': 'Mon Oct 07 23:04:36 +0000 2019', 'text': '@BnOrdhaug @Gizmodo I hope so'}, {'id': '1181343438630838273', 'date': 'Mon Oct 07 22:59:58 +0000 2019', 'text': '@Gizmodo Were doomed!'}, {'id': '1181304116498165760', 'date': 'Mon Oct 07 20:23:43 +0000 2019', 'text': '@pewdiepie Hh'}, {'id': '1181295442132230144', 'date': 'Mon Oct 07 19:49:15 +0000 2019', 'text': '@browserdotsys Haha true'}, {'id': '1181114635962814464', 'date': 'Mon Oct 07 07:50:47 +0000 2019', 'text': '@WellsAdams Done'}, {'id': '1181087900051492864', 'date': 'Mon Oct 07 06:04:33 +0000 2019', 'text': 'Trouble! https://t.co/qo2hR7Vcsp'}, {'id': '1181083687384838145', 'date': 'Mon Oct 07 05:47:49 +0000 2019', 'text': 'And thats just the tip of the iceberg https://t.co/cgRKiDsdbK'}, {'id': '1181070766101549056', 'date': 'Mon Oct 07 04:56:28 +0000 2019', 'text': '@jesterpb @yukaichou @Tesla Agreed'}, {'id': '1180957431368568832', 'date': 'Sun Oct 06 21:26:07 +0000 2019', 'text': '@TameemJi @yukaichou @Tesla Good ones'}, {'id': '1180928986903265280', 'date': 'Sun Oct 06 19:33:05 +0000 2019', 'text': '@SpodieDodie Agreed, fair point'}, {'id': '1180927887970422785', 'date': 'Sun Oct 06 19:28:43 +0000 2019', 'text': '@yukaichou @Tesla Any feature requests?'}, {'id': '1180927745301176320', 'date': 'Sun Oct 06 19:28:09 +0000 2019', 'text': 'Given how quickly the world is shifting to electric vehicles, a gas/diesel vehicle bought today will probably have https://t.co/aPRBK7hr1y'}, {'id': '1180878496224038914', 'date': 'Sun Oct 06 16:12:27 +0000 2019', 'text': ' &amp;  sounds too (also, of course)'}, {'id': '1180877799734665216', 'date': 'Sun Oct 06 16:09:41 +0000 2019', 'text': '@JudaMeg Will consider'}, {'id': '1180877420821237760', 'date': 'Sun Oct 06 16:08:11 +0000 2019', 'text': '@teslaownersSV Sure'}, {'id': '1180877114226008064', 'date': 'Sun Oct 06 16:06:58 +0000 2019', 'text': 'Customized horn &amp; movement sounds (coconuts being one, of course) coming to Teslas soon'}, {'id': '1180569585558228992', 'date': 'Sat Oct 05 19:44:57 +0000 2019', 'text': '@Erdayastronaut @bluemoondance74 @EvaFoxU Haha'}, {'id': '1180553336082157568', 'date': 'Sat Oct 05 18:40:23 +0000 2019', 'text': '@bluemoondance74 @EvaFoxU We will understand the next question'}, {'id': '1180553063301468160', 'date': 'Sat Oct 05 18:39:18 +0000 2019', 'text': '@justpaulinelol @EvaFoxU True'}, {'id': '1180552829498322945', 'date': 'Sat Oct 05 18:38:22 +0000 2019', 'text': '@EvaFoxU To understand the nature of consciousness'}, {'id': '1180320978435543042', 'date': 'Sat Oct 05 03:17:05 +0000 2019', 'text': '@Mikeado @LancelotFox @Tommymcglynn @trevorandersen @fermatslibrary Its true '}, {'id': '1180264594364870660', 'date': 'Fri Oct 04 23:33:02 +0000 2019', 'text': '@vincent13031925 @Sofiaan @SCE Exactly'}, {'id': '1180165032690233345', 'date': 'Fri Oct 04 16:57:24 +0000 2019', 'text': '@rklau Great list of hotel hacks in this thread!'}, {'id': '1179996203574013953', 'date': 'Fri Oct 04 05:46:32 +0000 2019', 'text': '@teslatruth '}, {'id': '1179957355628253185', 'date': 'Fri Oct 04 03:12:10 +0000 2019', 'text': 'Excited about launching @NASA asteroid defense mission! #Armageddon69 https://t.co/6Hz4CKOLwU'}, {'id': '1179941711306358787', 'date': 'Fri Oct 04 02:10:00 +0000 2019', 'text': '@nichegamer Lets go boyz!'}, {'id': '1179925839669891072', 'date': 'Fri Oct 04 01:06:56 +0000 2019', 'text': '@TeslaOwnersSK @Tesla Sorry it took so long!'}, {'id': '1179897546161848320', 'date': 'Thu Oct 03 23:14:31 +0000 2019', 'text': '@TarikCelebii Wow, cool! Summon will get steadily smoother until its like an expert chauffeur who knows you well.'}, {'id': '1179799146464628736', 'date': 'Thu Oct 03 16:43:30 +0000 2019', 'text': '@flcnhvy @HarryStoltz1 Welded steel'}, {'id': '1179624066375774209', 'date': 'Thu Oct 03 05:07:48 +0000 2019', 'text': '@HarryStoltz1 Probably Starlink  &amp; some fun things'}, {'id': '1179576466721259520', 'date': 'Thu Oct 03 01:58:39 +0000 2019', 'text': 'Rosetta by Vangelis is incredible https://t.co/MKqbsdVVsN'}, {'id': '1179524946478817280', 'date': 'Wed Oct 02 22:33:56 +0000 2019', 'text': '@teslaownersSV @arctechinc Not sure, will ask regulators'}, {'id': '1179524799804002304', 'date': 'Wed Oct 02 22:33:21 +0000 2019', 'text': '@AdamTForbes @annerajb @flcnhvy Enhanced should get it too'}, {'id': '1179524256792641542', 'date': 'Wed Oct 02 22:31:11 +0000 2019', 'text': '@arctechinc Aiming for this weekend!'}, {'id': '1179523171780681728', 'date': 'Wed Oct 02 22:26:53 +0000 2019', 'text': '@annerajb @flcnhvy Hopefully, a month or two, although it may be a little silly at first'}, {'id': '1179522786240319488', 'date': 'Wed Oct 02 22:25:21 +0000 2019', 'text': '@flcnhvy Not yet'}, {'id': '1179522738278395905', 'date': 'Wed Oct 02 22:25:09 +0000 2019', 'text': '@MemesOfMars First point release update expected to go out this weekend'}, {'id': '1179520622004588544', 'date': 'Wed Oct 02 22:16:45 +0000 2019', 'text': 'Over 550,000 Tesla Smart Summon uses in first few days!'}, {'id': '1179519667808768000', 'date': 'Wed Oct 02 22:12:57 +0000 2019', 'text': '@teslatruth Thanks, Tesla team is the strongest its ever been &amp; doing an amazing job! Honored to work beside them.'}, {'id': '1179159128708538370', 'date': 'Tue Oct 01 22:20:18 +0000 2019', 'text': '@justpaulinelol @KeithMansfield @Erdayastronaut If 20km works, then orbit'}, {'id': '1179158176618315776', 'date': 'Tue Oct 01 22:16:31 +0000 2019', 'text': '@KeithMansfield @Erdayastronaut Great summary of the key points!'}, {'id': '1179154111616274433', 'date': 'Tue Oct 01 22:00:22 +0000 2019', 'text': '@OranMaliphant @Erdayastronaut @AngelNDevil2 @MarkChica @FutureJurvetson @bluemoondance74 @SpaceX Thats about righ https://t.co/UuXAf1fpBh'}, {'id': '1179107730876796928', 'date': 'Tue Oct 01 18:56:04 +0000 2019', 'text': '@AngelNDevil2 @MarkChica @FutureJurvetson @bluemoondance74 @SpaceX Its all the secondary structure that concerns https://t.co/vQeVrk8J4V'}, {'id': '1179107539352313856', 'date': 'Tue Oct 01 18:55:18 +0000 2019', 'text': '@AngelNDevil2 @MarkChica @FutureJurvetson @bluemoondance74 @SpaceX Raptor cost is tracking to well under $1M for V1 https://t.co/ic6sKxZLFG'}, {'id': '1179090138644668416', 'date': 'Tue Oct 01 17:46:10 +0000 2019', 'text': '@JohnnaCrider1 @RationalEtienne @LaurenRow5 @RenataKonkoly @Kristennetten @EvaFoxU @MemesOfMars @PositivePyrami1 Stop sending me this  '}, {'id': '1179079219801812993', 'date': 'Tue Oct 01 17:02:46 +0000 2019', 'text': '@RationalEtienne @LaurenRow5 @EvaFoxU @Kristennetten @SteveHamel16 @TheElonMasked @MemesOfMars @MichellBasler https://t.co/O4xgr8y6kc'}, {'id': '1179078946941353984', 'date': 'Tue Oct 01 17:01:41 +0000 2019', 'text': '@Kristennetten @SS4Adrian I have that exact thought every time I get the flu'}, {'id': '1179074198540435456', 'date': 'Tue Oct 01 16:42:49 +0000 2019', 'text': '@SS4Adrian Clearly a sign of the apocalypse!'}, {'id': '1178956709731024896', 'date': 'Tue Oct 01 08:55:58 +0000 2019', 'text': '@engineersfeed Lot of ways to melt &amp; join steel. Mostly just needs to be welded consistently &amp; with precise parts.'}, {'id': '1178956134968807424', 'date': 'Tue Oct 01 08:53:41 +0000 2019', 'text': '@engineersfeed Thankfully not. FSW is very difficult to get right &amp; not needed with steel.'}, {'id': '1178938112195514368', 'date': 'Tue Oct 01 07:42:04 +0000 2019', 'text': 'Production version will be a lot more polished than this prototype, but still fun to see'}, {'id': '1178934984167448577', 'date': 'Tue Oct 01 07:29:38 +0000 2019', 'text': '@ColinPearceUK Bigger flaps/fins at rear also moves center of pressure back'}, {'id': '1178932681028980736', 'date': 'Tue Oct 01 07:20:29 +0000 2019', 'text': '@TrevorMahlmann Haha yes'}, {'id': '1178932062733996032', 'date': 'Tue Oct 01 07:18:01 +0000 2019', 'text': '@HarryStoltz1 In solving for a good Mars climate, we will learn a great deal about how to do so on Earth. It is the inverse problem.'}, {'id': '1178931253229187072', 'date': 'Tue Oct 01 07:14:48 +0000 2019', 'text': 'Inside Starship cargo bay. Header tanks mounted in tip of nosecone to offset engine weight at rear. https://t.co/EJSwqMCooA'}, {'id': '1178905464202883072', 'date': 'Tue Oct 01 05:32:20 +0000 2019', 'text': '@EvaFoxU @DisruptResearch @Tesla @karpathy Cool video!'}, {'id': '1178818555061493761', 'date': 'Mon Sep 30 23:46:59 +0000 2019', 'text': '@DisruptResearch @Tesla @karpathy Probably our most viral feature ever. Most of the Autopilot team has been working https://t.co/Vs7de166X3'}, {'id': '1178807103273631744', 'date': 'Mon Sep 30 23:01:29 +0000 2019', 'text': '@SPadival @Tesla @business @liamdenning @josheidelson @danahull @ZekeFaux Good question'}, {'id': '1178107012141535232', 'date': 'Sun Sep 29 00:39:34 +0000 2019', 'text': '@thejackbeyer '}, {'id': '1178014342031298561', 'date': 'Sat Sep 28 18:31:20 +0000 2019', 'text': 'Rage, rage against the dying of the light https://t.co/aGRw4VowAQ'}, {'id': '1178013709546991619', 'date': 'Sat Sep 28 18:28:49 +0000 2019', 'text': '@teslatruth @NRFdesigns Were going to use the pedestrian pink noise speaker to talk to people &amp; create customize https://t.co/cWLXua7AnI'}, {'id': '1178012340383621120', 'date': 'Sat Sep 28 18:23:23 +0000 2019', 'text': '@teslatruth Special light pattern (but not hazards, as theyre too shrill) seems right'}, {'id': '1178011464852004864', 'date': 'Sat Sep 28 18:19:54 +0000 2019', 'text': '@teslatruth Makes sense'}, {'id': '1177961429703507968', 'date': 'Sat Sep 28 15:01:04 +0000 2019', 'text': '@teslatruth @Tesla Precisely'}, {'id': '1177665592242794497', 'date': 'Fri Sep 27 19:25:31 +0000 2019', 'text': 'To make life as we know it multiplanetary'}, {'id': '1177665504699224064', 'date': 'Fri Sep 27 19:25:10 +0000 2019', 'text': 'Starship will allow us to inhabit other worlds'}, {'id': '1177662806117584896', 'date': 'Fri Sep 27 19:14:27 +0000 2019', 'text': 'Starship halves being joined https://t.co/7pdxfh8e81'}, {'id': '1177657997134221312', 'date': 'Fri Sep 27 18:55:21 +0000 2019', 'text': 'Summon is improving rapidly https://t.co/khgXDRnD2Z'}, {'id': '1177631358987849729', 'date': 'Fri Sep 27 17:09:29 +0000 2019', 'text': '@flcnhvy @Erdayastronaut @CorSPACE Just SX500 so far, but we use many superalloys developed by others, eg Inco 718 https://t.co/2ZRmiA1peV'}, {'id': '1177630155801419778', 'date': 'Fri Sep 27 17:04:43 +0000 2019', 'text': '@Erdayastronaut @CorSPACE Theres so much power going through this engine that its close to the limit of the know https://t.co/7LEcDvIRi0'}, {'id': '1177628992762855426', 'date': 'Fri Sep 27 17:00:05 +0000 2019', 'text': '@Carter99 @Erdayastronaut @askingbubble385 @CorSPACE Yes'}, {'id': '1177628790609997825', 'date': 'Fri Sep 27 16:59:17 +0000 2019', 'text': '@Erdayastronaut @CorSPACE Well, hopefully closer to 300 bar over time. However, that the chamber/nozzle jacket has https://t.co/VWegWXxxsL'}, {'id': '1177622466727821312', 'date': 'Fri Sep 27 16:34:09 +0000 2019', 'text': '@flcnhvy @Erdayastronaut @CorSPACE No, weve been focusing on production (now on SN12). Only need 250 bar or even https://t.co/MCIxOMAXeJ'}, {'id': '1177621843219365888', 'date': 'Fri Sep 27 16:31:41 +0000 2019', 'text': '@NCBirbhan @Erdayastronaut @CorSPACE Probably around 6 or 7pm'}, {'id': '1177621104686329856', 'date': 'Fri Sep 27 16:28:45 +0000 2019', 'text': '@Erdayastronaut @CorSPACE What blows my mind is that peak pressure in regen chamber &amp; nozzle is *far* above combus https://t.co/QZf6knzhq9'}, {'id': '1177618467136008194', 'date': 'Fri Sep 27 16:18:16 +0000 2019', 'text': '@GaryTheBot Figure of speech'}, {'id': '1177618401159602176', 'date': 'Fri Sep 27 16:18:00 +0000 2019', 'text': 'Meanwhile, back in reality https://t.co/NrHHB9G81L'}, {'id': '1177618032719319040', 'date': 'Fri Sep 27 16:16:32 +0000 2019', 'text': '@DLoesch Media report was false'}, {'id': '1177387141116002304', 'date': 'Fri Sep 27 00:59:03 +0000 2019', 'text': '@Erdayastronaut @CorSPACE Raptor uses milled copper channels with an inconel jacket all the way down'}, {'id': '1177314408604680192', 'date': 'Thu Sep 26 20:10:03 +0000 2019', 'text': 'Three Raptors on a Starship https://t.co/UrRiD62EVk'}, {'id': '1177259561117372417', 'date': 'Thu Sep 26 16:32:06 +0000 2019', 'text': '@EvaFoxU @BrendanCogbill7 Always'}, {'id': '1177241843093753862', 'date': 'Thu Sep 26 15:21:42 +0000 2019', 'text': '@SpacePadreIsle @SpaceX Wow, its been 5 years since we started at Boca!'}, {'id': '1177237783489863681', 'date': 'Thu Sep 26 15:05:34 +0000 2019', 'text': '@BrendanCogbill7 About a week. Will include slight improvements, based on initial user feedback.'}, {'id': '1177236839406559232', 'date': 'Thu Sep 26 15:01:49 +0000 2019', 'text': '@justpaulinelol We look for rare corner case issues with a limited release US build, then expand internationally as https://t.co/Lqw9n2ZHvR'}, {'id': '1177235963405193216', 'date': 'Thu Sep 26 14:58:20 +0000 2019', 'text': '@GaryTheBot Gary, you rock!'}, {'id': '1177235772857970688', 'date': 'Thu Sep 26 14:57:34 +0000 2019', 'text': 'Tesla V10.0 just started rolling out to all US Tesla owners with FSD option &amp; advanced download selected in vehicle software settings'}, {'id': '1177101142980825093', 'date': 'Thu Sep 26 06:02:36 +0000 2019', 'text': '@moyo5150 More like https://t.co/f8BUlz0Xdo'}, {'id': '1177100271937212416', 'date': 'Thu Sep 26 05:59:08 +0000 2019', 'text': 'Anonymous bot swarms deserve a closer examination. If theyre evolving rapidly, somethings up.'}, {'id': '1177099375287271424', 'date': 'Thu Sep 26 05:55:35 +0000 2019', 'text': 'If advanced AI (beyond basic bots) hasnt been applied to manipulate social media, it wont be long before it is'}, {'id': '1177096273628778496', 'date': 'Thu Sep 26 05:43:15 +0000 2019', 'text': '@WallyWests Exactly'}, {'id': '1177090550916239360', 'date': 'Thu Sep 26 05:20:31 +0000 2019', 'text': '@Kristennetten @annerajb @Jennerator211 @Erdayastronaut That would be a nice touch'}, {'id': '1177085193007456256', 'date': 'Thu Sep 26 04:59:13 +0000 2019', 'text': '@flcnhvy @28delayslater @DJSnM This is quite a complex beast, but hopefully within a month or so'}, {'id': '1177084577128448000', 'date': 'Thu Sep 26 04:56:47 +0000 2019', 'text': '@28delayslater @DJSnM Haha awesome'}, {'id': '1177074975020220416', 'date': 'Thu Sep 26 04:18:37 +0000 2019', 'text': '@MarkChica @Kristennetten @TeslaGong @teslaownersSV @Teslatunity @Tesla We could probably do that'}, {'id': '1177070801121468418', 'date': 'Thu Sep 26 04:02:02 +0000 2019', 'text': '@Erdayastronaut 50m'}, {'id': '1177069611142901762', 'date': 'Thu Sep 26 03:57:18 +0000 2019', 'text': '@TeslaGong @teslaownersSV @Teslatunity @Tesla Not sure we could go quite that tight, but we can for sure allow much https://t.co/wolYBBZMS7'}, {'id': '1177067257106747392', 'date': 'Thu Sep 26 03:47:57 +0000 2019', 'text': '@annerajb @Jennerator211 @Erdayastronaut With rare exceptions, composites would make Starship heavier. They dont s https://t.co/OeeigvDiI8'}, {'id': '1177066483375058944', 'date': 'Thu Sep 26 03:44:53 +0000 2019', 'text': '@Jennerator211 @Erdayastronaut Mk1 ship is around 200 tons dry &amp; 1400 tons wet, but aiming for 120 by Mk4 or Mk5. T https://t.co/yTUpGx0Ppa'}, {'id': '1177064952429010945', 'date': 'Thu Sep 26 03:38:48 +0000 2019', 'text': '@teslaownersSV @Teslatunity @Tesla Absolutely'}, {'id': '1177062354577756160', 'date': 'Thu Sep 26 03:28:28 +0000 2019', 'text': '@Teslatunity @Tesla Youre welcome! Feature requests always appreciated.'}, {'id': '1177051800769138690', 'date': 'Thu Sep 26 02:46:32 +0000 2019', 'text': '@Erdayastronaut @kimitalvitie Six. Two windward, one under each fin &amp; two leeward. Provides redundancy for landing on unimproved surfaces.'}, {'id': '1177050841041125376', 'date': 'Thu Sep 26 02:42:43 +0000 2019', 'text': 'On the transporter https://t.co/CGNj1MlKAU'}, {'id': '1177049277375250434', 'date': 'Thu Sep 26 02:36:30 +0000 2019', 'text': 'Lifting lower section of Starship https://t.co/bfW17i469a'}, {'id': '1176936806928879616', 'date': 'Wed Sep 25 19:09:35 +0000 2019', 'text': '@justpaulinelol @EvaFoxU @katlinegrey https://t.co/IzVngWWY7G'}, {'id': '1176930839411642368', 'date': 'Wed Sep 25 18:45:53 +0000 2019', 'text': '@EvaFoxU @katlinegrey '}, {'id': '1176928113285971968', 'date': 'Wed Sep 25 18:35:03 +0000 2019', 'text': '@katlinegrey   '}, {'id': '1176737065624453125', 'date': 'Wed Sep 25 05:55:53 +0000 2019', 'text': '@levie Exactly'}, {'id': '1176596320775094273', 'date': 'Tue Sep 24 20:36:37 +0000 2019', 'text': '@tannerfox Impressive work by Chad &amp; Steve!'}, {'id': '1176589331567452161', 'date': 'Tue Sep 24 20:08:51 +0000 2019', 'text': '@SamNazarius @HarryStoltz1 @justpaulinelol @Teslarati Almost entirely C++, but we did have an (advanced for the tim https://t.co/0SbJqgtWsG'}, {'id': '1176588054670323713', 'date': 'Tue Sep 24 20:03:46 +0000 2019', 'text': '@HarryStoltz1 @justpaulinelol @Teslarati Turbo Pascal'}, {'id': '1176587698401947650', 'date': 'Tue Sep 24 20:02:21 +0000 2019', 'text': '@justpaulinelol @Teslarati Mostly C/C++, Python &amp; SQL'}, {'id': '1176586684751908872', 'date': 'Tue Sep 24 19:58:20 +0000 2019', 'text': '@flcnhvy @Erdayastronaut @Tesla It would be pretty embarrassing to use a non-Tesla battery!'}, {'id': '1176585904091275264', 'date': 'Tue Sep 24 19:55:14 +0000 2019', 'text': '@Teslarati This includes original engineering of new factory processes &amp; cars. Great engineers will only join if or https://t.co/zCAndlhS72'}]\n",
    "#d = pd.DataFrame(d)\n",
    "\n",
    "##changing the date format\n",
    "date3 = []\n",
    "for i in range(d.shape[0]):\n",
    "    a = parse(d.date[i])\n",
    "    date2 = a.strftime(\"%Y-%m-%d\")\n",
    "    date3.append(date2)\n",
    "    \n",
    "date3 = pd.DataFrame(date3)\n",
    "d2 = pd.concat([d, date3], axis = 1)\n",
    "d2.date = d2.iloc[:,[-1]]\n",
    "#source = [\"twitter\"]*len(d2)\n",
    "d2 = d2[['id', 'date', 'text']]\n",
    "d2['source'] = \"twitter\"\n",
    "\n",
    "\n",
    "client = language.LanguageServiceClient.from_service_account_json('/Users/jenniferwu/Downloads/second.json')\n",
    "\n",
    "##calculating the score\n",
    "score = []\n",
    "for i in d2.text:\n",
    "        text = i\n",
    "        document = types.Document(\n",
    "        content=text,\n",
    "        type=enums.Document.Type.PLAIN_TEXT)\n",
    "\n",
    "# Detects the sentiment of the text\n",
    "        sentiment = client.analyze_sentiment(document=document).document_sentiment\n",
    "        score.append(sentiment.score)\n",
    "        \n",
    "        \n",
    "d2['score'] = score\n",
    "d2['score_range'] = d2.score.apply(score_range)\n",
    "output_1 = d2.groupby(['date'])['score_range'].agg(pd.Series.mode)\n",
    "output = output_1.reset_index(level=['date'])\n",
    "output['source']=\"twitter\"\n",
    "output['score_range'] = output.score_range.apply(np.mean)"
   ]
  },
  {
   "cell_type": "code",
   "execution_count": 230,
   "metadata": {},
   "outputs": [
    {
     "data": {
      "text/html": [
       "<div>\n",
       "<style scoped>\n",
       "    .dataframe tbody tr th:only-of-type {\n",
       "        vertical-align: middle;\n",
       "    }\n",
       "\n",
       "    .dataframe tbody tr th {\n",
       "        vertical-align: top;\n",
       "    }\n",
       "\n",
       "    .dataframe thead th {\n",
       "        text-align: right;\n",
       "    }\n",
       "</style>\n",
       "<table border=\"1\" class=\"dataframe\">\n",
       "  <thead>\n",
       "    <tr style=\"text-align: right;\">\n",
       "      <th></th>\n",
       "      <th>date</th>\n",
       "      <th>score_range</th>\n",
       "      <th>source</th>\n",
       "    </tr>\n",
       "  </thead>\n",
       "  <tbody>\n",
       "    <tr>\n",
       "      <td>0</td>\n",
       "      <td>2019-09-24</td>\n",
       "      <td>0.00</td>\n",
       "      <td>twitter</td>\n",
       "    </tr>\n",
       "    <tr>\n",
       "      <td>1</td>\n",
       "      <td>2019-09-25</td>\n",
       "      <td>0.00</td>\n",
       "      <td>twitter</td>\n",
       "    </tr>\n",
       "    <tr>\n",
       "      <td>2</td>\n",
       "      <td>2019-09-26</td>\n",
       "      <td>0.00</td>\n",
       "      <td>twitter</td>\n",
       "    </tr>\n",
       "    <tr>\n",
       "      <td>3</td>\n",
       "      <td>2019-09-27</td>\n",
       "      <td>0.00</td>\n",
       "      <td>twitter</td>\n",
       "    </tr>\n",
       "    <tr>\n",
       "      <td>4</td>\n",
       "      <td>2019-09-28</td>\n",
       "      <td>0.06</td>\n",
       "      <td>twitter</td>\n",
       "    </tr>\n",
       "  </tbody>\n",
       "</table>\n",
       "</div>"
      ],
      "text/plain": [
       "         date  score_range   source\n",
       "0  2019-09-24         0.00  twitter\n",
       "1  2019-09-25         0.00  twitter\n",
       "2  2019-09-26         0.00  twitter\n",
       "3  2019-09-27         0.00  twitter\n",
       "4  2019-09-28         0.06  twitter"
      ]
     },
     "execution_count": 230,
     "metadata": {},
     "output_type": "execute_result"
    }
   ],
   "source": [
    "output.head()"
   ]
  },
  {
   "cell_type": "code",
   "execution_count": null,
   "metadata": {},
   "outputs": [],
   "source": []
  },
  {
   "cell_type": "code",
   "execution_count": null,
   "metadata": {},
   "outputs": [],
   "source": []
  }
 ],
 "metadata": {
  "kernelspec": {
   "display_name": "Python 3",
   "language": "python",
   "name": "python3"
  },
  "language_info": {
   "codemirror_mode": {
    "name": "ipython",
    "version": 3
   },
   "file_extension": ".py",
   "mimetype": "text/x-python",
   "name": "python",
   "nbconvert_exporter": "python",
   "pygments_lexer": "ipython3",
   "version": "3.7.4"
  }
 },
 "nbformat": 4,
 "nbformat_minor": 2
}
